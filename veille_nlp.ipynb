{
 "cells": [
  {
   "cell_type": "markdown",
   "id": "92ed5b83",
   "metadata": {},
   "source": [
    "# A la découverte du NLP ( Natural Language Processing )"
   ]
  },
  {
   "cell_type": "markdown",
   "id": "1a30c217",
   "metadata": {},
   "source": [
    "1. Définissez les notions de Text Mining (exploration de texte) et de Natural\n",
    "Language Processing (Traitement du langage). Citez les points communs ainsi\n",
    "que les différences entre les deux."
   ]
  },
  {
   "cell_type": "markdown",
   "id": "1cb8d24b",
   "metadata": {},
   "source": [
    "Le Text Mining, ou analyse de texte, consiste à transformer un texte non structuré en données structurées pour ensuite procéder à l’analyse. Cette pratique repose sur la technologie de « Natural Language Processing » (traitement naturel du langage), permettant aux machines de comprendre et de traiter le langage humain automatiquement.\n",
    "\n",
    "Le NLP pour Natural Language Processing ou Traitement du Langage Naturel est une discipline ( une branche de l'IA) qui porte essentiellement sur la compréhension, la manipulation et la génération du langage naturel par les machines. \n",
    "Il porte donc sur la capacité de la machine à interagir directement avec l’humain."
   ]
  },
  {
   "cell_type": "markdown",
   "id": "56955f1c",
   "metadata": {},
   "source": [
    "2. Le NLP comprend plusieurs sous-domaines et techniques différentes (l’analyse\n",
    "de sentiments, Named Entity Recognition (NER), le Part-of-Speech (POS)\n",
    "Tagging, … etc), expliquez au moins 4 de ces sous-domaines et illustrez à\n",
    "travers d’exemples"
   ]
  },
  {
   "cell_type": "markdown",
   "id": "58292add",
   "metadata": {},
   "source": [
    "### a.\tAnalyse de sentiments\n",
    "\n",
    "### b.\tNamed Entity Recognition (NER)\n",
    "L'objectif principal d'un modèle NER est d'étiqueter ou de baliser des entités dans des documents texte et de les catégoriser pour un apprentissage en profondeur. Les trois approches suivantes sont généralement utilisées à cette fin. Cependant, vous pouvez également choisir de combiner une ou plusieurs méthodes. Les différentes approches pour créer des systèmes NER sont :\n",
    "\n",
    "-\tSystèmes basés sur un dictionnaire\n",
    "C’est peut-être l’approche NER la plus simple et la plus fondamentale. Il utilisera un dictionnaire avec de nombreux mots, des synonymes et une collection de vocabulaire. Le système vérifiera si une entité particulière présente dans le texte est également disponible dans le vocabulaire. En utilisant un algorithme de mise en correspondance de chaînes, une vérification croisée des entités est effectuée. Jil est nécessaire d’améliorer constamment l’ensemble de données de vocabulaire pour le fonctionnement efficace du modèle NER.\n",
    "\n",
    "-\tSystèmes basés sur des règles\n",
    "Extraction d'informations basée sur un ensemble de règles prédéfinies, qui sont :\n",
    "\n",
    "o\tRègles basées sur des modèles – Comme son nom l'indique, une règle basée sur un modèle suit un modèle morphologique ou une chaîne de mots utilisée dans le document.\n",
    "o\tRègles basées sur le contexte – Les règles contextuelles dépendent de la signification ou du contexte du mot dans le document.\n",
    "\n",
    "-\tSystèmes basés sur l'apprentissage automatique\n",
    "\n",
    "\n",
    "Part-of-Speech (POS) Tagging\n",
    "Tags a particular sentence or words in a paragraph by looking at the context of the sentence/words inside the paragraph.\n",
    "\n",
    "https://fr.shaip.com/solutions/named-entity-recognition-ner/\n"
   ]
  },
  {
   "cell_type": "markdown",
   "id": "30509017",
   "metadata": {},
   "source": [
    "3. Donnez quelques exemples d’applications concrètes du NLP."
   ]
  },
  {
   "cell_type": "markdown",
   "id": "009a3af6",
   "metadata": {},
   "source": [
    "- La traduction automatique\n",
    "\n",
    "- la classification de texte\n",
    "\n",
    "- la génération de texte\n",
    "\n",
    "- la synthèse de document\n",
    "\n",
    "- la génération de réponses à des questions (chatbot)\n"
   ]
  },
  {
   "cell_type": "markdown",
   "id": "a618b123",
   "metadata": {},
   "source": [
    "4. Qu’est ce qu’un stop-word ? Pourquoi est-il important de supprimer les\n",
    "stop-words ? Illustrez à travers d’exemples.\n"
   ]
  },
  {
   "cell_type": "markdown",
   "id": "653696c5",
   "metadata": {},
   "source": [
    "Stop-word sont des mots de liaison qui se répètent et n’ajoutent pas de sens."
   ]
  },
  {
   "cell_type": "markdown",
   "id": "9d397fb6",
   "metadata": {},
   "source": [
    "5. En plus de la ponctuation, on retrouve souvent des caractères spéciaux au sein\n",
    "de données textuelles. Comment sont traités ces deux types de caractères ?"
   ]
  },
  {
   "cell_type": "markdown",
   "id": "a43ae8cf",
   "metadata": {},
   "source": [
    "Les caractères de ponctuation et les caractères spéciaux sont souvent traités différemment lors du traitement de texte.\n",
    "\n",
    "Les caractères de ponctuation sont généralement considérés comme des séparateurs de mots et de phrases et sont donc souvent supprimés ou remplacés par des espaces lors de la préparation des données textuelles. Cela permet de segmenter le texte en mots et en phrases, ce qui facilite les tâches telles que la recherche d'informations et l'analyse de sentiment.\n",
    "\n",
    "En revanche, les caractères spéciaux sont souvent conservés dans le texte car ils peuvent fournir des informations significatives sur le sens du texte. Par exemple, les hashtags (#) dans les médias sociaux peuvent être utilisés pour identifier des sujets populaires, les adresses email et les URL contiennent des informations importantes sur les sources de données, et les symboles mathématiques peuvent être utilisés dans des domaines tels que la science et l'ingénierie.\n",
    "Cependant, certains caractères spéciaux peuvent également être supprimés ou remplacés lors de la préparation des données textuelles si ils ne sont pas pertinents pour la tâche d'analyse en cours. Par exemple, les émoticônes et les emoji peuvent être supprimés lors de l'analyse de sentiment car ils ne fournissent pas d'informations significatives sur le sens du texte.\n",
    "\n",
    "En résumé, les caractères de ponctuation sont souvent supprimés ou remplacés par des espaces, tandis que les caractères spéciaux sont généralement conservés, mais leur traitement dépend de la tâche d'analyse de texte spécifique.\n"
   ]
  },
  {
   "cell_type": "markdown",
   "id": "35057473",
   "metadata": {},
   "source": [
    "6. Qu’est ce qu’un token ? un N-gram ? Quel processus permet-il de les obtenir ?"
   ]
  },
  {
   "cell_type": "code",
   "execution_count": null,
   "id": "e6a21d00",
   "metadata": {},
   "outputs": [],
   "source": []
  },
  {
   "cell_type": "markdown",
   "id": "de75ffde",
   "metadata": {},
   "source": [
    "7. Expliquez les deux notions de Stemming et de Lemmatization. Quelle est la\n",
    "différence entre les deux ? Dans quels cas faut-il utiliser l’un plutôt que l’autre ?"
   ]
  },
  {
   "cell_type": "markdown",
   "id": "523985f3",
   "metadata": {},
   "source": [
    "- Le stemming désigne généralement le processus heuristique brut qui consiste à découper la fin des mots dans afin de ne conserver que la racine du mot.\n",
    "Exemple : « trouverez » -> « trouv »\n",
    "- Lemmatisation : la lemmatisation permet donc de supprimer uniquement les terminaisons inflexibles et donc à isoler la forme canonique du mot, connue\n",
    "sous le nom de lemme. Exemple : « trouvez » -> trouver\n",
    "- La différence entre Stemming et Lemmatisation repose d'une part sur le temps de calcul et d'autre part sur l'approche.En effet, le stemming est plus rapide car elle découpe les mots sans connaître le contexte du mot dans des phrases données .La lemmatisation elle, est plus lente mais elle connaît le contexte du mot avant de continuer.Coté approche, le stemming est basée sur des règles tandis que la lemmatisation basée sur un dictionnaire."
   ]
  },
  {
   "cell_type": "markdown",
   "id": "d6b54772",
   "metadata": {},
   "source": [
    "8. En représentant les mots sous forme de vecteurs numériques, vous permettez à\n",
    "un algorithme de Machine Learning de traiter les données textuelles et d'en\n",
    "extraire des informations utiles. Étudiez les deux méthodes Bag of Words et\n",
    "TF-IDF et définissez simplement la notion de Word Embedding."
   ]
  },
  {
   "cell_type": "code",
   "execution_count": null,
   "id": "b82721fb",
   "metadata": {},
   "outputs": [],
   "source": []
  }
 ],
 "metadata": {
  "kernelspec": {
   "display_name": "Python 3 (ipykernel)",
   "language": "python",
   "name": "python3"
  },
  "language_info": {
   "codemirror_mode": {
    "name": "ipython",
    "version": 3
   },
   "file_extension": ".py",
   "mimetype": "text/x-python",
   "name": "python",
   "nbconvert_exporter": "python",
   "pygments_lexer": "ipython3",
   "version": "3.9.13"
  }
 },
 "nbformat": 4,
 "nbformat_minor": 5
}
