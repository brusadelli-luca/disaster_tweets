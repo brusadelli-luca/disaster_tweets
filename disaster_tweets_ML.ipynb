{
 "cells": [
  {
   "cell_type": "markdown",
   "id": "9167ac13",
   "metadata": {},
   "source": [
    "# Eye of the Emergency"
   ]
  },
  {
   "cell_type": "markdown",
   "id": "f9fd82f9",
   "metadata": {},
   "source": [
    "## Libraries and dataset import"
   ]
  },
  {
   "cell_type": "code",
   "execution_count": 1,
   "id": "e9486461",
   "metadata": {},
   "outputs": [
    {
     "name": "stderr",
     "output_type": "stream",
     "text": [
      "[nltk_data] Downloading package punkt to\n",
      "[nltk_data]     C:\\Users\\utile\\AppData\\Roaming\\nltk_data...\n",
      "[nltk_data]   Package punkt is already up-to-date!\n",
      "[nltk_data] Downloading package stopwords to\n",
      "[nltk_data]     C:\\Users\\utile\\AppData\\Roaming\\nltk_data...\n",
      "[nltk_data]   Package stopwords is already up-to-date!\n",
      "[nltk_data] Downloading package wordnet to\n",
      "[nltk_data]     C:\\Users\\utile\\AppData\\Roaming\\nltk_data...\n",
      "[nltk_data]   Package wordnet is already up-to-date!\n",
      "[nltk_data] Downloading package omw-1.4 to\n",
      "[nltk_data]     C:\\Users\\utile\\AppData\\Roaming\\nltk_data...\n",
      "[nltk_data]   Package omw-1.4 is already up-to-date!\n"
     ]
    }
   ],
   "source": [
    "# Data import & Exploring\n",
    "import pandas as pd\n",
    "import numpy as np\n",
    "\n",
    "# Data Visualization\n",
    "import matplotlib.pyplot as plt\n",
    "\n",
    "# \n",
    "import nltk\n",
    "nltk.download('punkt')\n",
    "nltk.download('stopwords')\n",
    "nltk.download('wordnet')\n",
    "nltk.download('omw-1.4')\n",
    "\n",
    "from nltk.corpus import stopwords\n",
    "from nltk.stem import WordNetLemmatizer\n",
    "from nltk.tokenize import word_tokenize\n",
    "\n",
    "import string\n",
    "import re\n",
    "\n",
    "from sklearn.feature_extraction.text import CountVectorizer\n",
    "\n",
    "# ML\n",
    "from sklearn.model_selection import train_test_split\n",
    "from sklearn.svm import SVC\n",
    "import xgboost as xgb\n",
    "\n",
    "import statsmodels.api as sm\n",
    "from sklearn.linear_model import LogisticRegression\n",
    "\n",
    "from sklearn.metrics import roc_auc_score\n",
    "from sklearn.metrics import roc_curve\n",
    "\n",
    "from sklearn.feature_extraction.text import TfidfVectorizer\n"
   ]
  },
  {
   "cell_type": "code",
   "execution_count": 2,
   "id": "e1db272e",
   "metadata": {},
   "outputs": [],
   "source": [
    "train_df = pd.read_csv('train_tweets.csv')\n",
    "test_df = pd.read_csv('test_tweets.csv')"
   ]
  },
  {
   "cell_type": "markdown",
   "id": "95700639",
   "metadata": {},
   "source": [
    "## Data Preprocess"
   ]
  },
  {
   "cell_type": "code",
   "execution_count": 3,
   "id": "c1460ecf",
   "metadata": {},
   "outputs": [],
   "source": [
    "unique_count = pd.DataFrame(pd.value_counts(train_df.text))\n",
    "unique_count = unique_count.reset_index()\n",
    "unique_count.columns = ['text', 'count']"
   ]
  },
  {
   "cell_type": "code",
   "execution_count": 4,
   "id": "e58be70b",
   "metadata": {
    "scrolled": false
   },
   "outputs": [],
   "source": [
    "#unique_count.head()"
   ]
  },
  {
   "cell_type": "code",
   "execution_count": 5,
   "id": "ee09db9b",
   "metadata": {},
   "outputs": [],
   "source": [
    "train_df_unique = pd.DataFrame(train_df.text.unique(), columns = ['text'])"
   ]
  },
  {
   "cell_type": "code",
   "execution_count": 6,
   "id": "9214c7a1",
   "metadata": {},
   "outputs": [],
   "source": [
    "#train_df_unique.head()"
   ]
  },
  {
   "cell_type": "code",
   "execution_count": 7,
   "id": "17533f75",
   "metadata": {},
   "outputs": [],
   "source": [
    "train_df_unique = train_df_unique.merge(unique_count)"
   ]
  },
  {
   "cell_type": "code",
   "execution_count": 8,
   "id": "e6b4b3a1",
   "metadata": {},
   "outputs": [],
   "source": [
    "#train_df_unique.head()"
   ]
  },
  {
   "cell_type": "code",
   "execution_count": 9,
   "id": "9acccc7a",
   "metadata": {},
   "outputs": [],
   "source": [
    "train_df_count = train_df.merge(unique_count)"
   ]
  },
  {
   "cell_type": "code",
   "execution_count": 10,
   "id": "19e17a02",
   "metadata": {},
   "outputs": [],
   "source": [
    "#train_df_count.head()"
   ]
  },
  {
   "cell_type": "code",
   "execution_count": 11,
   "id": "8b09cfa2",
   "metadata": {},
   "outputs": [],
   "source": [
    "lg = pd.DataFrame([len(txt) for txt in train_df.text], columns = ['len_text'])"
   ]
  },
  {
   "cell_type": "code",
   "execution_count": 12,
   "id": "3ed6c467",
   "metadata": {},
   "outputs": [],
   "source": [
    "#lg.head()"
   ]
  },
  {
   "cell_type": "code",
   "execution_count": 13,
   "id": "2d093c81",
   "metadata": {},
   "outputs": [],
   "source": [
    "train_df_len = pd.concat([train_df_count, lg], axis = 1)"
   ]
  },
  {
   "cell_type": "code",
   "execution_count": 14,
   "id": "bd246482",
   "metadata": {},
   "outputs": [],
   "source": [
    "#train_df_len.head()"
   ]
  },
  {
   "cell_type": "markdown",
   "id": "ab696116",
   "metadata": {},
   "source": [
    "### Location Encoder"
   ]
  },
  {
   "cell_type": "code",
   "execution_count": 15,
   "id": "9e201b07",
   "metadata": {},
   "outputs": [],
   "source": [
    "encode_location = pd.DataFrame([int(type(ct)==str) for ct in train_df_len.location], columns=['location_enc'])"
   ]
  },
  {
   "cell_type": "code",
   "execution_count": 16,
   "id": "fdaed1ab",
   "metadata": {},
   "outputs": [],
   "source": [
    "#encode_location.head()"
   ]
  },
  {
   "cell_type": "code",
   "execution_count": 17,
   "id": "5ea22e8c",
   "metadata": {},
   "outputs": [],
   "source": [
    "train_df_location = pd.concat([train_df_len, encode_location], axis=1)"
   ]
  },
  {
   "cell_type": "code",
   "execution_count": 18,
   "id": "5ca6ded2",
   "metadata": {},
   "outputs": [
    {
     "data": {
      "text/html": [
       "<div>\n",
       "<style scoped>\n",
       "    .dataframe tbody tr th:only-of-type {\n",
       "        vertical-align: middle;\n",
       "    }\n",
       "\n",
       "    .dataframe tbody tr th {\n",
       "        vertical-align: top;\n",
       "    }\n",
       "\n",
       "    .dataframe thead th {\n",
       "        text-align: right;\n",
       "    }\n",
       "</style>\n",
       "<table border=\"1\" class=\"dataframe\">\n",
       "  <thead>\n",
       "    <tr style=\"text-align: right;\">\n",
       "      <th></th>\n",
       "      <th>id</th>\n",
       "      <th>keyword</th>\n",
       "      <th>location</th>\n",
       "      <th>text</th>\n",
       "      <th>target</th>\n",
       "      <th>count</th>\n",
       "      <th>len_text</th>\n",
       "      <th>location_enc</th>\n",
       "    </tr>\n",
       "  </thead>\n",
       "  <tbody>\n",
       "    <tr>\n",
       "      <th>0</th>\n",
       "      <td>1</td>\n",
       "      <td>NaN</td>\n",
       "      <td>NaN</td>\n",
       "      <td>Our Deeds are the Reason of this #earthquake M...</td>\n",
       "      <td>1</td>\n",
       "      <td>1</td>\n",
       "      <td>69</td>\n",
       "      <td>0</td>\n",
       "    </tr>\n",
       "    <tr>\n",
       "      <th>1</th>\n",
       "      <td>4</td>\n",
       "      <td>NaN</td>\n",
       "      <td>NaN</td>\n",
       "      <td>Forest fire near La Ronge Sask. Canada</td>\n",
       "      <td>1</td>\n",
       "      <td>1</td>\n",
       "      <td>38</td>\n",
       "      <td>0</td>\n",
       "    </tr>\n",
       "    <tr>\n",
       "      <th>2</th>\n",
       "      <td>5</td>\n",
       "      <td>NaN</td>\n",
       "      <td>NaN</td>\n",
       "      <td>All residents asked to 'shelter in place' are ...</td>\n",
       "      <td>1</td>\n",
       "      <td>1</td>\n",
       "      <td>133</td>\n",
       "      <td>0</td>\n",
       "    </tr>\n",
       "    <tr>\n",
       "      <th>3</th>\n",
       "      <td>6</td>\n",
       "      <td>NaN</td>\n",
       "      <td>NaN</td>\n",
       "      <td>13,000 people receive #wildfires evacuation or...</td>\n",
       "      <td>1</td>\n",
       "      <td>1</td>\n",
       "      <td>65</td>\n",
       "      <td>0</td>\n",
       "    </tr>\n",
       "    <tr>\n",
       "      <th>4</th>\n",
       "      <td>7</td>\n",
       "      <td>NaN</td>\n",
       "      <td>NaN</td>\n",
       "      <td>Just got sent this photo from Ruby #Alaska as ...</td>\n",
       "      <td>1</td>\n",
       "      <td>1</td>\n",
       "      <td>88</td>\n",
       "      <td>0</td>\n",
       "    </tr>\n",
       "  </tbody>\n",
       "</table>\n",
       "</div>"
      ],
      "text/plain": [
       "   id keyword location                                               text  \\\n",
       "0   1     NaN      NaN  Our Deeds are the Reason of this #earthquake M...   \n",
       "1   4     NaN      NaN             Forest fire near La Ronge Sask. Canada   \n",
       "2   5     NaN      NaN  All residents asked to 'shelter in place' are ...   \n",
       "3   6     NaN      NaN  13,000 people receive #wildfires evacuation or...   \n",
       "4   7     NaN      NaN  Just got sent this photo from Ruby #Alaska as ...   \n",
       "\n",
       "   target  count  len_text  location_enc  \n",
       "0       1      1        69             0  \n",
       "1       1      1        38             0  \n",
       "2       1      1       133             0  \n",
       "3       1      1        65             0  \n",
       "4       1      1        88             0  "
      ]
     },
     "execution_count": 18,
     "metadata": {},
     "output_type": "execute_result"
    }
   ],
   "source": [
    "train_df_location.head()"
   ]
  },
  {
   "cell_type": "markdown",
   "id": "fda11580",
   "metadata": {},
   "source": [
    "## NLTK"
   ]
  },
  {
   "cell_type": "code",
   "execution_count": 19,
   "id": "56dd6338",
   "metadata": {},
   "outputs": [],
   "source": [
    "df = train_df_location.copy()"
   ]
  },
  {
   "cell_type": "code",
   "execution_count": 20,
   "id": "1656712a",
   "metadata": {},
   "outputs": [],
   "source": [
    "df2 = train_df_location.copy()"
   ]
  },
  {
   "cell_type": "code",
   "execution_count": 21,
   "id": "e97ba05e",
   "metadata": {},
   "outputs": [],
   "source": [
    "# text cleaning\n",
    "\n",
    "def text_processing(text):\n",
    "     #Charger les stop-words en anglais\n",
    "    stop_words = set(stopwords.words('english'))\n",
    "\n",
    "    # Initialiser le lemmatizer\n",
    "    lemmatizer = WordNetLemmatizer()\n",
    "\n",
    "    # Appliquer la tokenisation à tous les textes\n",
    "    tokens = word_tokenize(text.lower())\n",
    "\n",
    "    # Supprimer les ponctuations\n",
    "    tokens = [word for word in tokens if word not in string.punctuation]\n",
    "    \n",
    "\n",
    "    # Supprimer les stop-words\n",
    "    tokens = [word for word in tokens if word not in stop_words]\n",
    "    \n",
    "    # Supprimer les stop-words BIS\n",
    "    tokens = [word for word in tokens if word != \"http\"]\n",
    "    tokens = [word for word in tokens if word[0:7] != \"//t.co/\"]\n",
    "    \n",
    "\n",
    "    # Appliquer la lemmatisation à tous les tokens\n",
    "    tokens = [lemmatizer.lemmatize(word) for word in tokens]\n",
    "    \n",
    "    tokens = ' '.join(tokens)\n",
    "    \n",
    "    return tokens\n",
    "    \n",
    "\n",
    "# Charger l'ensemble de données\n",
    "#df = pd.read_csv('votre_fichier.csv')"
   ]
  },
  {
   "cell_type": "code",
   "execution_count": 22,
   "id": "0ff1f0c1",
   "metadata": {},
   "outputs": [],
   "source": [
    "# Appliquer la fonction Cleanup à tous les textes dans la colonne \"text\"\n",
    "df2['text_process'] = df['text'].apply(text_processing)"
   ]
  },
  {
   "cell_type": "code",
   "execution_count": 23,
   "id": "c9dfc969",
   "metadata": {},
   "outputs": [
    {
     "data": {
      "text/html": [
       "<div>\n",
       "<style scoped>\n",
       "    .dataframe tbody tr th:only-of-type {\n",
       "        vertical-align: middle;\n",
       "    }\n",
       "\n",
       "    .dataframe tbody tr th {\n",
       "        vertical-align: top;\n",
       "    }\n",
       "\n",
       "    .dataframe thead th {\n",
       "        text-align: right;\n",
       "    }\n",
       "</style>\n",
       "<table border=\"1\" class=\"dataframe\">\n",
       "  <thead>\n",
       "    <tr style=\"text-align: right;\">\n",
       "      <th></th>\n",
       "      <th>id</th>\n",
       "      <th>keyword</th>\n",
       "      <th>location</th>\n",
       "      <th>text</th>\n",
       "      <th>target</th>\n",
       "      <th>count</th>\n",
       "      <th>len_text</th>\n",
       "      <th>location_enc</th>\n",
       "      <th>text_process</th>\n",
       "    </tr>\n",
       "  </thead>\n",
       "  <tbody>\n",
       "    <tr>\n",
       "      <th>0</th>\n",
       "      <td>1</td>\n",
       "      <td>NaN</td>\n",
       "      <td>NaN</td>\n",
       "      <td>Our Deeds are the Reason of this #earthquake M...</td>\n",
       "      <td>1</td>\n",
       "      <td>1</td>\n",
       "      <td>69</td>\n",
       "      <td>0</td>\n",
       "      <td>deed reason earthquake may allah forgive u</td>\n",
       "    </tr>\n",
       "    <tr>\n",
       "      <th>1</th>\n",
       "      <td>4</td>\n",
       "      <td>NaN</td>\n",
       "      <td>NaN</td>\n",
       "      <td>Forest fire near La Ronge Sask. Canada</td>\n",
       "      <td>1</td>\n",
       "      <td>1</td>\n",
       "      <td>38</td>\n",
       "      <td>0</td>\n",
       "      <td>forest fire near la ronge sask canada</td>\n",
       "    </tr>\n",
       "    <tr>\n",
       "      <th>2</th>\n",
       "      <td>5</td>\n",
       "      <td>NaN</td>\n",
       "      <td>NaN</td>\n",
       "      <td>All residents asked to 'shelter in place' are ...</td>\n",
       "      <td>1</td>\n",
       "      <td>1</td>\n",
       "      <td>133</td>\n",
       "      <td>0</td>\n",
       "      <td>resident asked 'shelter place notified officer...</td>\n",
       "    </tr>\n",
       "    <tr>\n",
       "      <th>3</th>\n",
       "      <td>6</td>\n",
       "      <td>NaN</td>\n",
       "      <td>NaN</td>\n",
       "      <td>13,000 people receive #wildfires evacuation or...</td>\n",
       "      <td>1</td>\n",
       "      <td>1</td>\n",
       "      <td>65</td>\n",
       "      <td>0</td>\n",
       "      <td>13,000 people receive wildfire evacuation orde...</td>\n",
       "    </tr>\n",
       "    <tr>\n",
       "      <th>4</th>\n",
       "      <td>7</td>\n",
       "      <td>NaN</td>\n",
       "      <td>NaN</td>\n",
       "      <td>Just got sent this photo from Ruby #Alaska as ...</td>\n",
       "      <td>1</td>\n",
       "      <td>1</td>\n",
       "      <td>88</td>\n",
       "      <td>0</td>\n",
       "      <td>got sent photo ruby alaska smoke wildfire pour...</td>\n",
       "    </tr>\n",
       "    <tr>\n",
       "      <th>...</th>\n",
       "      <td>...</td>\n",
       "      <td>...</td>\n",
       "      <td>...</td>\n",
       "      <td>...</td>\n",
       "      <td>...</td>\n",
       "      <td>...</td>\n",
       "      <td>...</td>\n",
       "      <td>...</td>\n",
       "      <td>...</td>\n",
       "    </tr>\n",
       "    <tr>\n",
       "      <th>7608</th>\n",
       "      <td>10863</td>\n",
       "      <td>NaN</td>\n",
       "      <td>NaN</td>\n",
       "      <td>#WorldNews Fallen powerlines on G:link tram: U...</td>\n",
       "      <td>1</td>\n",
       "      <td>1</td>\n",
       "      <td>83</td>\n",
       "      <td>0</td>\n",
       "      <td>worldnews fallen powerlines g link tram update...</td>\n",
       "    </tr>\n",
       "    <tr>\n",
       "      <th>7609</th>\n",
       "      <td>10864</td>\n",
       "      <td>NaN</td>\n",
       "      <td>NaN</td>\n",
       "      <td>on the flip side I'm at Walmart and there is a...</td>\n",
       "      <td>1</td>\n",
       "      <td>1</td>\n",
       "      <td>125</td>\n",
       "      <td>0</td>\n",
       "      <td>flip side 'm walmart bomb everyone evacuate st...</td>\n",
       "    </tr>\n",
       "    <tr>\n",
       "      <th>7610</th>\n",
       "      <td>10866</td>\n",
       "      <td>NaN</td>\n",
       "      <td>NaN</td>\n",
       "      <td>Suicide bomber kills 15 in Saudi security site...</td>\n",
       "      <td>1</td>\n",
       "      <td>1</td>\n",
       "      <td>65</td>\n",
       "      <td>0</td>\n",
       "      <td>suicide bomber kill 15 saudi security site mos...</td>\n",
       "    </tr>\n",
       "    <tr>\n",
       "      <th>7611</th>\n",
       "      <td>10869</td>\n",
       "      <td>NaN</td>\n",
       "      <td>NaN</td>\n",
       "      <td>Two giant cranes holding a bridge collapse int...</td>\n",
       "      <td>1</td>\n",
       "      <td>1</td>\n",
       "      <td>137</td>\n",
       "      <td>0</td>\n",
       "      <td>two giant crane holding bridge collapse nearby...</td>\n",
       "    </tr>\n",
       "    <tr>\n",
       "      <th>7612</th>\n",
       "      <td>10873</td>\n",
       "      <td>NaN</td>\n",
       "      <td>NaN</td>\n",
       "      <td>The Latest: More Homes Razed by Northern Calif...</td>\n",
       "      <td>1</td>\n",
       "      <td>1</td>\n",
       "      <td>94</td>\n",
       "      <td>0</td>\n",
       "      <td>latest home razed northern california wildfire...</td>\n",
       "    </tr>\n",
       "  </tbody>\n",
       "</table>\n",
       "<p>7613 rows × 9 columns</p>\n",
       "</div>"
      ],
      "text/plain": [
       "         id keyword location  \\\n",
       "0         1     NaN      NaN   \n",
       "1         4     NaN      NaN   \n",
       "2         5     NaN      NaN   \n",
       "3         6     NaN      NaN   \n",
       "4         7     NaN      NaN   \n",
       "...     ...     ...      ...   \n",
       "7608  10863     NaN      NaN   \n",
       "7609  10864     NaN      NaN   \n",
       "7610  10866     NaN      NaN   \n",
       "7611  10869     NaN      NaN   \n",
       "7612  10873     NaN      NaN   \n",
       "\n",
       "                                                   text  target  count  \\\n",
       "0     Our Deeds are the Reason of this #earthquake M...       1      1   \n",
       "1                Forest fire near La Ronge Sask. Canada       1      1   \n",
       "2     All residents asked to 'shelter in place' are ...       1      1   \n",
       "3     13,000 people receive #wildfires evacuation or...       1      1   \n",
       "4     Just got sent this photo from Ruby #Alaska as ...       1      1   \n",
       "...                                                 ...     ...    ...   \n",
       "7608  #WorldNews Fallen powerlines on G:link tram: U...       1      1   \n",
       "7609  on the flip side I'm at Walmart and there is a...       1      1   \n",
       "7610  Suicide bomber kills 15 in Saudi security site...       1      1   \n",
       "7611  Two giant cranes holding a bridge collapse int...       1      1   \n",
       "7612  The Latest: More Homes Razed by Northern Calif...       1      1   \n",
       "\n",
       "      len_text  location_enc  \\\n",
       "0           69             0   \n",
       "1           38             0   \n",
       "2          133             0   \n",
       "3           65             0   \n",
       "4           88             0   \n",
       "...        ...           ...   \n",
       "7608        83             0   \n",
       "7609       125             0   \n",
       "7610        65             0   \n",
       "7611       137             0   \n",
       "7612        94             0   \n",
       "\n",
       "                                           text_process  \n",
       "0            deed reason earthquake may allah forgive u  \n",
       "1                 forest fire near la ronge sask canada  \n",
       "2     resident asked 'shelter place notified officer...  \n",
       "3     13,000 people receive wildfire evacuation orde...  \n",
       "4     got sent photo ruby alaska smoke wildfire pour...  \n",
       "...                                                 ...  \n",
       "7608  worldnews fallen powerlines g link tram update...  \n",
       "7609  flip side 'm walmart bomb everyone evacuate st...  \n",
       "7610  suicide bomber kill 15 saudi security site mos...  \n",
       "7611  two giant crane holding bridge collapse nearby...  \n",
       "7612  latest home razed northern california wildfire...  \n",
       "\n",
       "[7613 rows x 9 columns]"
      ]
     },
     "execution_count": 23,
     "metadata": {},
     "output_type": "execute_result"
    }
   ],
   "source": [
    "df2"
   ]
  },
  {
   "cell_type": "code",
   "execution_count": 24,
   "id": "cdb94ecb",
   "metadata": {},
   "outputs": [
    {
     "data": {
      "text/plain": [
       "'nw flash flood warning continued shelby county 08:00 pm wednesday tnwx'"
      ]
     },
     "execution_count": 24,
     "metadata": {},
     "output_type": "execute_result"
    }
   ],
   "source": [
    "df2.text_process[7600]"
   ]
  },
  {
   "cell_type": "markdown",
   "id": "299e8440",
   "metadata": {},
   "source": [
    "## ML : Word Embedding - SKLEARN"
   ]
  },
  {
   "cell_type": "code",
   "execution_count": 26,
   "id": "b44181c8",
   "metadata": {},
   "outputs": [],
   "source": [
    "X = df2['text_process']"
   ]
  },
  {
   "cell_type": "code",
   "execution_count": 27,
   "id": "7d62b731",
   "metadata": {},
   "outputs": [
    {
     "data": {
      "text/plain": [
       "0              deed reason earthquake may allah forgive u\n",
       "1                   forest fire near la ronge sask canada\n",
       "2       resident asked 'shelter place notified officer...\n",
       "3       13,000 people receive wildfire evacuation orde...\n",
       "4       got sent photo ruby alaska smoke wildfire pour...\n",
       "                              ...                        \n",
       "7608    worldnews fallen powerlines g link tram update...\n",
       "7609    flip side 'm walmart bomb everyone evacuate st...\n",
       "7610    suicide bomber kill 15 saudi security site mos...\n",
       "7611    two giant crane holding bridge collapse nearby...\n",
       "7612    latest home razed northern california wildfire...\n",
       "Name: text_process, Length: 7613, dtype: object"
      ]
     },
     "execution_count": 27,
     "metadata": {},
     "output_type": "execute_result"
    }
   ],
   "source": [
    "X"
   ]
  },
  {
   "cell_type": "code",
   "execution_count": 28,
   "id": "9ec9b927",
   "metadata": {},
   "outputs": [],
   "source": [
    "vectorizer = CountVectorizer()\n",
    "X_vec = vectorizer.fit_transform(X)"
   ]
  },
  {
   "cell_type": "code",
   "execution_count": 30,
   "id": "31831d99",
   "metadata": {},
   "outputs": [
    {
     "data": {
      "text/html": [
       "<div>\n",
       "<style scoped>\n",
       "    .dataframe tbody tr th:only-of-type {\n",
       "        vertical-align: middle;\n",
       "    }\n",
       "\n",
       "    .dataframe tbody tr th {\n",
       "        vertical-align: top;\n",
       "    }\n",
       "\n",
       "    .dataframe thead th {\n",
       "        text-align: right;\n",
       "    }\n",
       "</style>\n",
       "<table border=\"1\" class=\"dataframe\">\n",
       "  <thead>\n",
       "    <tr style=\"text-align: right;\">\n",
       "      <th></th>\n",
       "      <th>0</th>\n",
       "    </tr>\n",
       "  </thead>\n",
       "  <tbody>\n",
       "    <tr>\n",
       "      <th>0</th>\n",
       "      <td>(0, 3971)\\t1\\n  (0, 11465)\\t1\\n  (0, 4666)\\t...</td>\n",
       "    </tr>\n",
       "    <tr>\n",
       "      <th>1</th>\n",
       "      <td>(0, 5654)\\t1\\n  (0, 5482)\\t1\\n  (0, 9653)\\t1...</td>\n",
       "    </tr>\n",
       "    <tr>\n",
       "      <th>2</th>\n",
       "      <td>(0, 11708)\\t1\\n  (0, 1394)\\t1\\n  (0, 12577)\\...</td>\n",
       "    </tr>\n",
       "    <tr>\n",
       "      <th>3</th>\n",
       "      <td>(0, 5075)\\t1\\n  (0, 10223)\\t1\\n  (0, 89)\\t1\\...</td>\n",
       "    </tr>\n",
       "    <tr>\n",
       "      <th>4</th>\n",
       "      <td>(0, 15335)\\t1\\n  (0, 6165)\\t1\\n  (0, 12442)\\...</td>\n",
       "    </tr>\n",
       "    <tr>\n",
       "      <th>...</th>\n",
       "      <td>...</td>\n",
       "    </tr>\n",
       "    <tr>\n",
       "      <th>7608</th>\n",
       "      <td>(0, 5482)\\t1\\n  (0, 14731)\\t1\\n  (0, 5276)\\t...</td>\n",
       "    </tr>\n",
       "    <tr>\n",
       "      <th>7609</th>\n",
       "      <td>(0, 12660)\\t1\\n  (0, 5099)\\t1\\n  (0, 13271)\\...</td>\n",
       "    </tr>\n",
       "    <tr>\n",
       "      <th>7610</th>\n",
       "      <td>(0, 9721)\\t1\\n  (0, 12749)\\t1\\n  (0, 105)\\t1...</td>\n",
       "    </tr>\n",
       "    <tr>\n",
       "      <th>7611</th>\n",
       "      <td>(0, 14558)\\t1\\n  (0, 6756)\\t1\\n  (0, 3223)\\t...</td>\n",
       "    </tr>\n",
       "    <tr>\n",
       "      <th>7612</th>\n",
       "      <td>(0, 15335)\\t1\\n  (0, 2579)\\t1\\n  (0, 9721)\\t...</td>\n",
       "    </tr>\n",
       "  </tbody>\n",
       "</table>\n",
       "<p>7613 rows × 1 columns</p>\n",
       "</div>"
      ],
      "text/plain": [
       "                                                      0\n",
       "0       (0, 3971)\\t1\\n  (0, 11465)\\t1\\n  (0, 4666)\\t...\n",
       "1       (0, 5654)\\t1\\n  (0, 5482)\\t1\\n  (0, 9653)\\t1...\n",
       "2       (0, 11708)\\t1\\n  (0, 1394)\\t1\\n  (0, 12577)\\...\n",
       "3       (0, 5075)\\t1\\n  (0, 10223)\\t1\\n  (0, 89)\\t1\\...\n",
       "4       (0, 15335)\\t1\\n  (0, 6165)\\t1\\n  (0, 12442)\\...\n",
       "...                                                 ...\n",
       "7608    (0, 5482)\\t1\\n  (0, 14731)\\t1\\n  (0, 5276)\\t...\n",
       "7609    (0, 12660)\\t1\\n  (0, 5099)\\t1\\n  (0, 13271)\\...\n",
       "7610    (0, 9721)\\t1\\n  (0, 12749)\\t1\\n  (0, 105)\\t1...\n",
       "7611    (0, 14558)\\t1\\n  (0, 6756)\\t1\\n  (0, 3223)\\t...\n",
       "7612    (0, 15335)\\t1\\n  (0, 2579)\\t1\\n  (0, 9721)\\t...\n",
       "\n",
       "[7613 rows x 1 columns]"
      ]
     },
     "execution_count": 30,
     "metadata": {},
     "output_type": "execute_result"
    }
   ],
   "source": [
    "pd.DataFrame(X_vec)"
   ]
  },
  {
   "cell_type": "code",
   "execution_count": 32,
   "id": "f0f50eb5",
   "metadata": {},
   "outputs": [],
   "source": [
    "tfidf = TfidfVectorizer()"
   ]
  },
  {
   "cell_type": "code",
   "execution_count": 33,
   "id": "7c0a237d",
   "metadata": {},
   "outputs": [],
   "source": [
    "#X_train_vec = tfidf.fit_transform(df2['text'].to_numpy())"
   ]
  },
  {
   "cell_type": "code",
   "execution_count": 34,
   "id": "4eb29aff",
   "metadata": {},
   "outputs": [],
   "source": [
    "#pd.DataFrame(X_train_vec).head()"
   ]
  },
  {
   "cell_type": "code",
   "execution_count": 35,
   "id": "efb966e6",
   "metadata": {},
   "outputs": [],
   "source": [
    "X_vec = tfidf.fit_transform(X)"
   ]
  },
  {
   "cell_type": "code",
   "execution_count": 36,
   "id": "a7c66dbb",
   "metadata": {},
   "outputs": [
    {
     "data": {
      "text/plain": [
       "<7613x15840 sparse matrix of type '<class 'numpy.float64'>'\n",
       "\twith 70097 stored elements in Compressed Sparse Row format>"
      ]
     },
     "execution_count": 36,
     "metadata": {},
     "output_type": "execute_result"
    }
   ],
   "source": [
    "X_vec"
   ]
  },
  {
   "cell_type": "code",
   "execution_count": 37,
   "id": "618ffe07",
   "metadata": {
    "scrolled": false
   },
   "outputs": [
    {
     "data": {
      "text/html": [
       "<div>\n",
       "<style scoped>\n",
       "    .dataframe tbody tr th:only-of-type {\n",
       "        vertical-align: middle;\n",
       "    }\n",
       "\n",
       "    .dataframe tbody tr th {\n",
       "        vertical-align: top;\n",
       "    }\n",
       "\n",
       "    .dataframe thead th {\n",
       "        text-align: right;\n",
       "    }\n",
       "</style>\n",
       "<table border=\"1\" class=\"dataframe\">\n",
       "  <thead>\n",
       "    <tr style=\"text-align: right;\">\n",
       "      <th></th>\n",
       "      <th>0</th>\n",
       "    </tr>\n",
       "  </thead>\n",
       "  <tbody>\n",
       "    <tr>\n",
       "      <th>0</th>\n",
       "      <td>(0, 5662)\\t0.4916801595530426\\n  (0, 995)\\t0...</td>\n",
       "    </tr>\n",
       "    <tr>\n",
       "      <th>1</th>\n",
       "      <td>(0, 2618)\\t0.38768584886076835\\n  (0, 12227)...</td>\n",
       "    </tr>\n",
       "    <tr>\n",
       "      <th>2</th>\n",
       "      <td>(0, 5166)\\t0.2516652226079931\\n  (0, 10223)\\...</td>\n",
       "    </tr>\n",
       "    <tr>\n",
       "      <th>3</th>\n",
       "      <td>(0, 2579)\\t0.2760495231763834\\n  (0, 15335)\\...</td>\n",
       "    </tr>\n",
       "    <tr>\n",
       "      <th>4</th>\n",
       "      <td>(0, 12297)\\t0.27148235929883796\\n  (0, 10910...</td>\n",
       "    </tr>\n",
       "    <tr>\n",
       "      <th>...</th>\n",
       "      <td>...</td>\n",
       "    </tr>\n",
       "    <tr>\n",
       "      <th>7608</th>\n",
       "      <td>(0, 14300)\\t0.3537612084336819\\n  (0, 5073)\\...</td>\n",
       "    </tr>\n",
       "    <tr>\n",
       "      <th>7609</th>\n",
       "      <td>(0, 15083)\\t0.3858687397178091\\n  (0, 14501)...</td>\n",
       "    </tr>\n",
       "    <tr>\n",
       "      <th>7610</th>\n",
       "      <td>(0, 2187)\\t0.2541182175049369\\n  (0, 15081)\\...</td>\n",
       "    </tr>\n",
       "    <tr>\n",
       "      <th>7611</th>\n",
       "      <td>(0, 9654)\\t0.37054956786543136\\n  (0, 6737)\\...</td>\n",
       "    </tr>\n",
       "    <tr>\n",
       "      <th>7612</th>\n",
       "      <td>(0, 11414)\\t0.40148827710649926\\n  (0, 652)\\...</td>\n",
       "    </tr>\n",
       "  </tbody>\n",
       "</table>\n",
       "<p>7613 rows × 1 columns</p>\n",
       "</div>"
      ],
      "text/plain": [
       "                                                      0\n",
       "0       (0, 5662)\\t0.4916801595530426\\n  (0, 995)\\t0...\n",
       "1       (0, 2618)\\t0.38768584886076835\\n  (0, 12227)...\n",
       "2       (0, 5166)\\t0.2516652226079931\\n  (0, 10223)\\...\n",
       "3       (0, 2579)\\t0.2760495231763834\\n  (0, 15335)\\...\n",
       "4       (0, 12297)\\t0.27148235929883796\\n  (0, 10910...\n",
       "...                                                 ...\n",
       "7608    (0, 14300)\\t0.3537612084336819\\n  (0, 5073)\\...\n",
       "7609    (0, 15083)\\t0.3858687397178091\\n  (0, 14501)...\n",
       "7610    (0, 2187)\\t0.2541182175049369\\n  (0, 15081)\\...\n",
       "7611    (0, 9654)\\t0.37054956786543136\\n  (0, 6737)\\...\n",
       "7612    (0, 11414)\\t0.40148827710649926\\n  (0, 652)\\...\n",
       "\n",
       "[7613 rows x 1 columns]"
      ]
     },
     "execution_count": 37,
     "metadata": {},
     "output_type": "execute_result"
    }
   ],
   "source": [
    "pd.DataFrame(X_vec)"
   ]
  },
  {
   "cell_type": "code",
   "execution_count": null,
   "id": "1b647679",
   "metadata": {
    "scrolled": true
   },
   "outputs": [],
   "source": [
    "feature_names = tfidf.get_feature_names()"
   ]
  },
  {
   "cell_type": "code",
   "execution_count": null,
   "id": "568d2618",
   "metadata": {},
   "outputs": [],
   "source": [
    "feature_names"
   ]
  },
  {
   "cell_type": "code",
   "execution_count": null,
   "id": "4ccd13c7",
   "metadata": {},
   "outputs": [],
   "source": [
    "#for col in X_train_vec.nonzero()[1]:\n",
    " #   print (feature_names[col], ' - ', X_train_vec[0, col])"
   ]
  },
  {
   "cell_type": "markdown",
   "id": "79fa6767",
   "metadata": {},
   "source": [
    "## ML : Dataset Split"
   ]
  },
  {
   "cell_type": "code",
   "execution_count": null,
   "id": "a0806063",
   "metadata": {},
   "outputs": [],
   "source": [
    "X_train, X_test, y_train, y_test = train_test_split(X_vec, df2['target'], test_size=0.2, random_state=42)\n"
   ]
  },
  {
   "cell_type": "markdown",
   "id": "cb86447b",
   "metadata": {},
   "source": [
    "## ML : SVM avec sklearn"
   ]
  },
  {
   "cell_type": "code",
   "execution_count": null,
   "id": "7eda1ff6",
   "metadata": {},
   "outputs": [],
   "source": [
    "#instanciation\n",
    "model_SVC = SVC() #kernel = 'linear', gamma = 'scale', shrinking = False)"
   ]
  },
  {
   "cell_type": "code",
   "execution_count": null,
   "id": "aad76353",
   "metadata": {},
   "outputs": [],
   "source": [
    "#training\n",
    "model_SVC.fit(X_train, y_train)"
   ]
  },
  {
   "cell_type": "code",
   "execution_count": null,
   "id": "ba6eda88",
   "metadata": {},
   "outputs": [],
   "source": [
    "#calcul de la précision\n",
    "model_SVC.score(X_test, y_test)"
   ]
  },
  {
   "cell_type": "code",
   "execution_count": null,
   "id": "6984449d",
   "metadata": {},
   "outputs": [],
   "source": [
    "def fonction_SVM(tweet):\n",
    "    tw = []\n",
    "    tw.append(tweet)\n",
    "    #Prédiction\n",
    "    X_1 = pd.Series([tweet])\n",
    "    X_1 = tfidf.transform(X_1)\n",
    "    pred = model_SVC.predict(X_1)\n",
    "\n",
    "    #affichage des résultats\n",
    "    resultat = \"Résultat : \"\n",
    "    if pred[0] == 0:\n",
    "        resultat = resultat + \"NO DISASTER\"\n",
    "    if pred[0] == 1:\n",
    "        resultat = resultat + \"DISASTER\"\n",
    "        \n",
    "    return resultat"
   ]
  },
  {
   "cell_type": "code",
   "execution_count": null,
   "id": "59599e1f",
   "metadata": {},
   "outputs": [],
   "source": [
    "#Prédiction\n",
    "fonction_SVM(\"Help me, my house is on fire and all the forest is burning\")"
   ]
  },
  {
   "cell_type": "code",
   "execution_count": null,
   "id": "c6b4bf1f",
   "metadata": {},
   "outputs": [],
   "source": [
    "#Prédiction\n",
    "fonction_SVM(\"forest\")"
   ]
  },
  {
   "cell_type": "markdown",
   "id": "2b48308c",
   "metadata": {},
   "source": [
    "## ML : xgboost"
   ]
  },
  {
   "cell_type": "markdown",
   "id": "c82f315c",
   "metadata": {},
   "source": [
    "The data is stored in a DMatrix object."
   ]
  },
  {
   "cell_type": "code",
   "execution_count": null,
   "id": "0374ba0d",
   "metadata": {},
   "outputs": [],
   "source": [
    "X_train"
   ]
  },
  {
   "cell_type": "code",
   "execution_count": null,
   "id": "28c7ca35",
   "metadata": {},
   "outputs": [],
   "source": [
    "pd.DataFrame(X_train).head()"
   ]
  },
  {
   "cell_type": "code",
   "execution_count": null,
   "id": "5d557785",
   "metadata": {},
   "outputs": [],
   "source": [
    "type(X_train)"
   ]
  },
  {
   "cell_type": "code",
   "execution_count": null,
   "id": "7bbce5d6",
   "metadata": {},
   "outputs": [],
   "source": [
    "# Create regression matrices\n",
    "dtrain = xgb.DMatrix(X_train)"
   ]
  },
  {
   "cell_type": "code",
   "execution_count": null,
   "id": "1c49f1f3",
   "metadata": {},
   "outputs": [],
   "source": [
    "# Create regression matrices\n",
    "dtrain = xgb.DMatrix(X_train, y_train)#, enable_categorical=True)\n",
    "dtest = xgb.DMatrix(X_test, y_test) #, enable_categorical=True)\n",
    "np.asarray(dtest)"
   ]
  },
  {
   "cell_type": "code",
   "execution_count": null,
   "id": "1184b7bf",
   "metadata": {},
   "outputs": [],
   "source": [
    "# Define hyperparameters\n",
    "param = {'objective': 'binary:logistic', 'eval_metric': 'auc'}"
   ]
  },
  {
   "cell_type": "code",
   "execution_count": null,
   "id": "e96de787",
   "metadata": {},
   "outputs": [],
   "source": [
    "# Define hyperparameters\n",
    "model_xgb = xgb.train(param, dtrain, num_boost_round=10)"
   ]
  },
  {
   "cell_type": "code",
   "execution_count": null,
   "id": "eb02e735",
   "metadata": {},
   "outputs": [],
   "source": [
    "ypred = model_xgb.predict(dtest)\n",
    "ypred"
   ]
  },
  {
   "cell_type": "code",
   "execution_count": null,
   "id": "0dd695a1",
   "metadata": {},
   "outputs": [],
   "source": [
    "#Prédiction\n",
    "pred = pd.Series([\"Hello\"])\n",
    "X_test_vec = tfidf.transform(pred)\n",
    "dpred = xgb.DMatrix(X_test_vec)"
   ]
  },
  {
   "cell_type": "code",
   "execution_count": null,
   "id": "f532738a",
   "metadata": {},
   "outputs": [],
   "source": [
    "prediction = model_xgb.predict(dpred)\n",
    "prediction"
   ]
  },
  {
   "cell_type": "code",
   "execution_count": null,
   "id": "06a5d032",
   "metadata": {},
   "outputs": [],
   "source": [
    "#accuracy = sum(prediction == y_test) / len(y_test)\n",
    "#print('Accuracy: ', accuracy)"
   ]
  },
  {
   "cell_type": "markdown",
   "id": "76d7ff1b",
   "metadata": {},
   "source": [
    "### API SKL"
   ]
  },
  {
   "cell_type": "code",
   "execution_count": null,
   "id": "d5577f7f",
   "metadata": {},
   "outputs": [],
   "source": [
    "model_xgb_skl = xgb.XGBClassifier()"
   ]
  },
  {
   "cell_type": "code",
   "execution_count": null,
   "id": "37f4c389",
   "metadata": {},
   "outputs": [],
   "source": []
  },
  {
   "cell_type": "markdown",
   "id": "19835a1d",
   "metadata": {},
   "source": [
    "## ML : SKL Log Reg"
   ]
  },
  {
   "cell_type": "code",
   "execution_count": null,
   "id": "57ac36bd",
   "metadata": {},
   "outputs": [],
   "source": [
    "X_train_arr = np.asarray(X_train.toarray())"
   ]
  },
  {
   "cell_type": "code",
   "execution_count": null,
   "id": "972a626b",
   "metadata": {},
   "outputs": [],
   "source": [
    "X_train_arr"
   ]
  },
  {
   "cell_type": "code",
   "execution_count": null,
   "id": "0ff102bb",
   "metadata": {},
   "outputs": [],
   "source": [
    "X_train_arr_df = pd.DataFrame(X_train_arr)"
   ]
  },
  {
   "cell_type": "code",
   "execution_count": null,
   "id": "5a2f8127",
   "metadata": {},
   "outputs": [],
   "source": [
    "X_train_arr_df.describe()"
   ]
  },
  {
   "cell_type": "code",
   "execution_count": null,
   "id": "16151dc5",
   "metadata": {
    "scrolled": false
   },
   "outputs": [],
   "source": [
    "model_logreg = sm.Logit(y_train, X_train)"
   ]
  },
  {
   "cell_type": "code",
   "execution_count": null,
   "id": "30a7a458",
   "metadata": {},
   "outputs": [],
   "source": [
    "result = model_logreg.fit()"
   ]
  },
  {
   "cell_type": "code",
   "execution_count": null,
   "id": "48e9bffe",
   "metadata": {},
   "outputs": [],
   "source": [
    "result.summary2()"
   ]
  },
  {
   "cell_type": "code",
   "execution_count": null,
   "id": "2ffe33d1",
   "metadata": {},
   "outputs": [],
   "source": [
    "logreg = LogisticRegression()\n",
    "\n",
    "logreg.fit(X_train, y_train)\n",
    "\n",
    "y_pred = logreg.predict(X_test)"
   ]
  },
  {
   "cell_type": "code",
   "execution_count": null,
   "id": "8a2e8858",
   "metadata": {},
   "outputs": [],
   "source": [
    "print('Model accuracy (%) : {:.1f}'.format(logreg.score(X_test, y_test) * 100))"
   ]
  },
  {
   "cell_type": "code",
   "execution_count": null,
   "id": "20ddc1bb",
   "metadata": {},
   "outputs": [],
   "source": [
    "roc_auc = roc_auc_score(y_test, logreg.predict(X_test))\n",
    "\n",
    "fpr, tpr, thresholds = roc_curve(y_test, logreg.predict_proba(X_test)[:,1])"
   ]
  },
  {
   "cell_type": "code",
   "execution_count": null,
   "id": "8f7d23a7",
   "metadata": {},
   "outputs": [],
   "source": [
    "plt.plot(fpr, tpr, label='Logistic Regression (area = %0.2f)' % roc_auc)\n",
    "plt.plot([0, 1], [0, 1], 'r--')\n",
    "plt.title('ROC Curve')\n",
    "plt.xlabel('False Positive Rate')\n",
    "plt.ylabel('True Positive Rate')\n",
    "plt.legend()"
   ]
  }
 ],
 "metadata": {
  "kernelspec": {
   "display_name": "Python 3 (ipykernel)",
   "language": "python",
   "name": "python3"
  },
  "language_info": {
   "codemirror_mode": {
    "name": "ipython",
    "version": 3
   },
   "file_extension": ".py",
   "mimetype": "text/x-python",
   "name": "python",
   "nbconvert_exporter": "python",
   "pygments_lexer": "ipython3",
   "version": "3.9.13"
  }
 },
 "nbformat": 4,
 "nbformat_minor": 5
}
