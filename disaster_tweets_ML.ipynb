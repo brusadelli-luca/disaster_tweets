{
 "cells": [
  {
   "cell_type": "markdown",
   "id": "9167ac13",
   "metadata": {},
   "source": [
    "# Eye of the Emergency"
   ]
  },
  {
   "cell_type": "markdown",
   "id": "f9fd82f9",
   "metadata": {},
   "source": [
    "## Libraries and dataset import"
   ]
  },
  {
   "cell_type": "code",
   "execution_count": 1,
   "id": "e9486461",
   "metadata": {},
   "outputs": [
    {
     "name": "stderr",
     "output_type": "stream",
     "text": [
      "[nltk_data] Downloading package punkt to\n",
      "[nltk_data]     C:\\Users\\utile\\AppData\\Roaming\\nltk_data...\n",
      "[nltk_data]   Package punkt is already up-to-date!\n",
      "[nltk_data] Downloading package stopwords to\n",
      "[nltk_data]     C:\\Users\\utile\\AppData\\Roaming\\nltk_data...\n",
      "[nltk_data]   Package stopwords is already up-to-date!\n",
      "[nltk_data] Downloading package wordnet to\n",
      "[nltk_data]     C:\\Users\\utile\\AppData\\Roaming\\nltk_data...\n",
      "[nltk_data]   Package wordnet is already up-to-date!\n",
      "[nltk_data] Downloading package omw-1.4 to\n",
      "[nltk_data]     C:\\Users\\utile\\AppData\\Roaming\\nltk_data...\n",
      "[nltk_data]   Package omw-1.4 is already up-to-date!\n"
     ]
    }
   ],
   "source": [
    "# Data import & Exploring\n",
    "import pandas as pd\n",
    "import numpy as np\n",
    "\n",
    "# Data Visualization\n",
    "import matplotlib.pyplot as plt\n",
    "\n",
    "# \n",
    "import nltk\n",
    "nltk.download('punkt')\n",
    "nltk.download('stopwords')\n",
    "nltk.download('wordnet')\n",
    "nltk.download('omw-1.4')\n",
    "\n",
    "from nltk.corpus import stopwords\n",
    "from nltk.stem import WordNetLemmatizer\n",
    "from nltk.tokenize import word_tokenize\n",
    "\n",
    "import string\n",
    "import re\n",
    "\n",
    "from sklearn.feature_extraction.text import CountVectorizer\n",
    "\n",
    "# ML\n",
    "from sklearn.model_selection import train_test_split\n",
    "from sklearn.svm import SVC\n",
    "import xgboost as xgb\n",
    "\n",
    "import statsmodels.api as sm\n",
    "from sklearn.linear_model import LogisticRegression\n",
    "\n",
    "from sklearn.metrics import roc_auc_score\n",
    "from sklearn.metrics import roc_curve\n",
    "\n",
    "from sklearn.feature_extraction.text import TfidfVectorizer\n"
   ]
  },
  {
   "cell_type": "code",
   "execution_count": 2,
   "id": "e1db272e",
   "metadata": {},
   "outputs": [],
   "source": [
    "train_df = pd.read_csv('train_tweets.csv')\n",
    "test_df = pd.read_csv('test_tweets.csv')"
   ]
  },
  {
   "cell_type": "markdown",
   "id": "95700639",
   "metadata": {},
   "source": [
    "## Data Preprocess"
   ]
  },
  {
   "cell_type": "code",
   "execution_count": 3,
   "id": "c1460ecf",
   "metadata": {},
   "outputs": [],
   "source": [
    "unique_count = pd.DataFrame(pd.value_counts(train_df.text))\n",
    "unique_count = unique_count.reset_index()\n",
    "unique_count.columns = ['text', 'count']"
   ]
  },
  {
   "cell_type": "code",
   "execution_count": 4,
   "id": "e58be70b",
   "metadata": {
    "scrolled": false
   },
   "outputs": [],
   "source": [
    "#unique_count.head()"
   ]
  },
  {
   "cell_type": "code",
   "execution_count": 5,
   "id": "ee09db9b",
   "metadata": {},
   "outputs": [],
   "source": [
    "train_df_unique = pd.DataFrame(train_df.text.unique(), columns = ['text'])"
   ]
  },
  {
   "cell_type": "code",
   "execution_count": 6,
   "id": "e6d2914d",
   "metadata": {},
   "outputs": [],
   "source": [
    "#train_df_unique.head()"
   ]
  },
  {
   "cell_type": "code",
   "execution_count": 7,
   "id": "17533f75",
   "metadata": {},
   "outputs": [],
   "source": [
    "train_df_unique = train_df_unique.merge(unique_count)"
   ]
  },
  {
   "cell_type": "code",
   "execution_count": 8,
   "id": "f6f1fb6a",
   "metadata": {},
   "outputs": [],
   "source": [
    "#train_df_unique.head()"
   ]
  },
  {
   "cell_type": "code",
   "execution_count": 9,
   "id": "9acccc7a",
   "metadata": {},
   "outputs": [],
   "source": [
    "train_df_count = train_df.merge(unique_count)"
   ]
  },
  {
   "cell_type": "code",
   "execution_count": 10,
   "id": "19e17a02",
   "metadata": {},
   "outputs": [],
   "source": [
    "#train_df_count.head()"
   ]
  },
  {
   "cell_type": "code",
   "execution_count": 11,
   "id": "8b09cfa2",
   "metadata": {},
   "outputs": [],
   "source": [
    "lg = pd.DataFrame([len(txt) for txt in train_df.text], columns = ['len_text'])"
   ]
  },
  {
   "cell_type": "code",
   "execution_count": 12,
   "id": "d7c3534f",
   "metadata": {},
   "outputs": [],
   "source": [
    "#lg.head()"
   ]
  },
  {
   "cell_type": "code",
   "execution_count": 13,
   "id": "2d093c81",
   "metadata": {},
   "outputs": [],
   "source": [
    "train_df_len = pd.concat([train_df_count, lg], axis = 1)"
   ]
  },
  {
   "cell_type": "code",
   "execution_count": 14,
   "id": "4f22a692",
   "metadata": {},
   "outputs": [],
   "source": [
    "#train_df_len.head()"
   ]
  },
  {
   "cell_type": "markdown",
   "id": "ab696116",
   "metadata": {},
   "source": [
    "### Location Encoder"
   ]
  },
  {
   "cell_type": "code",
   "execution_count": 15,
   "id": "9e201b07",
   "metadata": {},
   "outputs": [],
   "source": [
    "encode_location = pd.DataFrame([int(type(ct)==str) for ct in train_df_len.location], columns=['location_enc'])"
   ]
  },
  {
   "cell_type": "code",
   "execution_count": 16,
   "id": "31139b26",
   "metadata": {},
   "outputs": [],
   "source": [
    "#encode_location.head()"
   ]
  },
  {
   "cell_type": "code",
   "execution_count": 17,
   "id": "5ea22e8c",
   "metadata": {},
   "outputs": [],
   "source": [
    "train_df_location = pd.concat([train_df_len, encode_location], axis=1)"
   ]
  },
  {
   "cell_type": "code",
   "execution_count": 18,
   "id": "3af569bd",
   "metadata": {},
   "outputs": [
    {
     "data": {
      "text/html": [
       "<div>\n",
       "<style scoped>\n",
       "    .dataframe tbody tr th:only-of-type {\n",
       "        vertical-align: middle;\n",
       "    }\n",
       "\n",
       "    .dataframe tbody tr th {\n",
       "        vertical-align: top;\n",
       "    }\n",
       "\n",
       "    .dataframe thead th {\n",
       "        text-align: right;\n",
       "    }\n",
       "</style>\n",
       "<table border=\"1\" class=\"dataframe\">\n",
       "  <thead>\n",
       "    <tr style=\"text-align: right;\">\n",
       "      <th></th>\n",
       "      <th>id</th>\n",
       "      <th>keyword</th>\n",
       "      <th>location</th>\n",
       "      <th>text</th>\n",
       "      <th>target</th>\n",
       "      <th>count</th>\n",
       "      <th>len_text</th>\n",
       "      <th>location_enc</th>\n",
       "    </tr>\n",
       "  </thead>\n",
       "  <tbody>\n",
       "    <tr>\n",
       "      <th>0</th>\n",
       "      <td>1</td>\n",
       "      <td>NaN</td>\n",
       "      <td>NaN</td>\n",
       "      <td>Our Deeds are the Reason of this #earthquake M...</td>\n",
       "      <td>1</td>\n",
       "      <td>1</td>\n",
       "      <td>69</td>\n",
       "      <td>0</td>\n",
       "    </tr>\n",
       "    <tr>\n",
       "      <th>1</th>\n",
       "      <td>4</td>\n",
       "      <td>NaN</td>\n",
       "      <td>NaN</td>\n",
       "      <td>Forest fire near La Ronge Sask. Canada</td>\n",
       "      <td>1</td>\n",
       "      <td>1</td>\n",
       "      <td>38</td>\n",
       "      <td>0</td>\n",
       "    </tr>\n",
       "    <tr>\n",
       "      <th>2</th>\n",
       "      <td>5</td>\n",
       "      <td>NaN</td>\n",
       "      <td>NaN</td>\n",
       "      <td>All residents asked to 'shelter in place' are ...</td>\n",
       "      <td>1</td>\n",
       "      <td>1</td>\n",
       "      <td>133</td>\n",
       "      <td>0</td>\n",
       "    </tr>\n",
       "    <tr>\n",
       "      <th>3</th>\n",
       "      <td>6</td>\n",
       "      <td>NaN</td>\n",
       "      <td>NaN</td>\n",
       "      <td>13,000 people receive #wildfires evacuation or...</td>\n",
       "      <td>1</td>\n",
       "      <td>1</td>\n",
       "      <td>65</td>\n",
       "      <td>0</td>\n",
       "    </tr>\n",
       "    <tr>\n",
       "      <th>4</th>\n",
       "      <td>7</td>\n",
       "      <td>NaN</td>\n",
       "      <td>NaN</td>\n",
       "      <td>Just got sent this photo from Ruby #Alaska as ...</td>\n",
       "      <td>1</td>\n",
       "      <td>1</td>\n",
       "      <td>88</td>\n",
       "      <td>0</td>\n",
       "    </tr>\n",
       "  </tbody>\n",
       "</table>\n",
       "</div>"
      ],
      "text/plain": [
       "   id keyword location                                               text  \\\n",
       "0   1     NaN      NaN  Our Deeds are the Reason of this #earthquake M...   \n",
       "1   4     NaN      NaN             Forest fire near La Ronge Sask. Canada   \n",
       "2   5     NaN      NaN  All residents asked to 'shelter in place' are ...   \n",
       "3   6     NaN      NaN  13,000 people receive #wildfires evacuation or...   \n",
       "4   7     NaN      NaN  Just got sent this photo from Ruby #Alaska as ...   \n",
       "\n",
       "   target  count  len_text  location_enc  \n",
       "0       1      1        69             0  \n",
       "1       1      1        38             0  \n",
       "2       1      1       133             0  \n",
       "3       1      1        65             0  \n",
       "4       1      1        88             0  "
      ]
     },
     "execution_count": 18,
     "metadata": {},
     "output_type": "execute_result"
    }
   ],
   "source": [
    "train_df_location.head()"
   ]
  },
  {
   "cell_type": "markdown",
   "id": "fda11580",
   "metadata": {},
   "source": [
    "## NLTK"
   ]
  },
  {
   "cell_type": "code",
   "execution_count": 19,
   "id": "56dd6338",
   "metadata": {},
   "outputs": [],
   "source": [
    "df = train_df_location.copy()"
   ]
  },
  {
   "cell_type": "code",
   "execution_count": 20,
   "id": "1656712a",
   "metadata": {},
   "outputs": [],
   "source": [
    "df2 = train_df_location.copy()"
   ]
  },
  {
   "cell_type": "code",
   "execution_count": 21,
   "id": "e97ba05e",
   "metadata": {},
   "outputs": [],
   "source": [
    "# text cleaning\n",
    "\n",
    "def text_processing(text):\n",
    "     #Charger les stop-words en anglais\n",
    "    stop_words = set(stopwords.words('english'))\n",
    "\n",
    "    # Initialiser le lemmatizer\n",
    "    lemmatizer = WordNetLemmatizer()\n",
    "\n",
    "    # Appliquer la tokenisation à tous les textes\n",
    "    tokens = word_tokenize(text.lower())\n",
    "\n",
    "    # Supprimer les ponctuations\n",
    "    tokens = [word for word in tokens if word not in string.punctuation]\n",
    "    \n",
    "\n",
    "    # Supprimer les stop-words\n",
    "    tokens = [word for word in tokens if word not in stop_words]\n",
    "    \n",
    "    # Supprimer les stop-words BIS\n",
    "    tokens = [word for word in tokens if word[0:4] != \"http\"]\n",
    "    tokens = [word for word in tokens if word[0:7] != \"//t.co/\"]\n",
    "    \n",
    "\n",
    "    # Appliquer la lemmatisation à tous les tokens\n",
    "    tokens = [lemmatizer.lemmatize(word) for word in tokens]\n",
    "    \n",
    "    tokens = [word for word in tokens if len(word) > 1]\n",
    "    tokens = [word for word in tokens if word[0] != \"'\"]\n",
    "    tokens = [word for word in tokens if word != \"n't\"]\n",
    "    tokens = [word for word in tokens if word != \"amp\"]\n",
    "    \n",
    "    tokens = [word for word in tokens if word[0:len(\"\\x89\")] != \"\\x89\"]\n",
    "    tokens = [word for word in tokens if word[0:len(\"Û_\")] != \"Û_\"]\n",
    "    tokens = [word for word in tokens if word[0:len(\"Û\")] != \"Û\"]\n",
    "    \n",
    "    tokens = ' '.join(tokens)\n",
    "    \n",
    "    return tokens\n",
    "    \n",
    "\n",
    "# Charger l'ensemble de données\n",
    "#df = pd.read_csv('votre_fichier.csv')"
   ]
  },
  {
   "cell_type": "code",
   "execution_count": 22,
   "id": "0ff1f0c1",
   "metadata": {},
   "outputs": [],
   "source": [
    "# Appliquer la fonction Cleanup à tous les textes dans la colonne \"text\"\n",
    "df2['text_process'] = df['text'].apply(text_processing)"
   ]
  },
  {
   "cell_type": "code",
   "execution_count": 23,
   "id": "c9dfc969",
   "metadata": {},
   "outputs": [],
   "source": [
    "#df2"
   ]
  },
  {
   "cell_type": "code",
   "execution_count": 24,
   "id": "6e847b25",
   "metadata": {},
   "outputs": [],
   "source": [
    "text_process = [txt for txt in df2.text_process]\n",
    "text_process_0 = [txt for txt in df2.text_process[df.target == 0]]\n",
    "text_process_1 = [txt for txt in df2.text_process[df.target == 1]]"
   ]
  },
  {
   "cell_type": "code",
   "execution_count": 25,
   "id": "ec937a61",
   "metadata": {},
   "outputs": [],
   "source": [
    "#text_process"
   ]
  },
  {
   "cell_type": "code",
   "execution_count": 26,
   "id": "2594a77e",
   "metadata": {},
   "outputs": [],
   "source": [
    "my_lst_str = ' '.join(map(str, text_process))\n",
    "my_lst_str_0 = ' '.join(map(str, text_process_0))\n",
    "my_lst_str_1 = ' '.join(map(str, text_process_1))"
   ]
  },
  {
   "cell_type": "code",
   "execution_count": 27,
   "id": "06e76e43",
   "metadata": {},
   "outputs": [],
   "source": [
    "#my_lst_str"
   ]
  },
  {
   "cell_type": "code",
   "execution_count": 28,
   "id": "afe7d9b7",
   "metadata": {},
   "outputs": [],
   "source": [
    "from wordcloud import WordCloud"
   ]
  },
  {
   "cell_type": "code",
   "execution_count": 81,
   "id": "29b89d93",
   "metadata": {},
   "outputs": [
    {
     "data": {
      "image/png": "[encoded data removed]",
      "text/plain": [
       "<Figure size 800x800 with 3 Axes>"
      ]
     },
     "metadata": {},
     "output_type": "display_data"
    }
   ],
   "source": [
    "plt.figure(figsize=(8, 8))\n",
    "\n",
    "plt.subplot(2, 2, 1)\n",
    "\n",
    "wordcloud = WordCloud(background_color = 'white', stopwords = [\"Û_\", \"new\", \"like\"] , max_words = 50).generate(my_lst_str)\n",
    "plt.imshow(wordcloud)\n",
    "\n",
    "plt.title('tweets')\n",
    "plt.axis(\"off\")\n",
    "\n",
    "plt.subplot(2, 2, 3)\n",
    "\n",
    "wordcloud_0 = WordCloud(background_color = 'red', stopwords = [\"Û_\", \"new\", \"like\"] , max_words = 50).generate(my_lst_str_0)\n",
    "plt.imshow(wordcloud_0)\n",
    "\n",
    "plt.title('Tweets faux')\n",
    "plt.axis(\"off\")\n",
    "\n",
    "\n",
    "plt.subplot(2, 2, 4)\n",
    "\n",
    "wordcloud_1 = WordCloud(background_color = 'green', stopwords = [\"Û_\", \"new\", \"like\"] , max_words = 50).generate(my_lst_str_1)\n",
    "plt.imshow(wordcloud_1)\n",
    "\n",
    "plt.title('Tweets vrais')\n",
    "plt.axis(\"off\")\n",
    "\n",
    "plt.show()"
   ]
  },
  {
   "cell_type": "code",
   "execution_count": 30,
   "id": "fd48c173",
   "metadata": {},
   "outputs": [],
   "source": [
    "#wordcloud = WordCloud(background_color = 'white', max_words = 50).generate(my_lst_str)"
   ]
  },
  {
   "cell_type": "code",
   "execution_count": 31,
   "id": "e5edf03f",
   "metadata": {},
   "outputs": [],
   "source": [
    "#plt.figure(figsize=(8, 8))\n",
    "\n",
    "#plt.imshow(wordcloud)"
   ]
  },
  {
   "cell_type": "markdown",
   "id": "299e8440",
   "metadata": {},
   "source": [
    "## ML : Word Embedding - SKLEARN"
   ]
  },
  {
   "cell_type": "code",
   "execution_count": 32,
   "id": "5e522b8d",
   "metadata": {},
   "outputs": [],
   "source": [
    "X = df2['text_process']"
   ]
  },
  {
   "cell_type": "code",
   "execution_count": 33,
   "id": "dc106cee",
   "metadata": {},
   "outputs": [
    {
     "data": {
      "text/plain": [
       "0                deed reason earthquake may allah forgive\n",
       "1                   forest fire near la ronge sask canada\n",
       "2       resident asked place notified officer evacuati...\n",
       "3       13,000 people receive wildfire evacuation orde...\n",
       "4       got sent photo ruby alaska smoke wildfire pour...\n",
       "                              ...                        \n",
       "7608    worldnews fallen powerlines link tram update f...\n",
       "7609    flip side walmart bomb everyone evacuate stay ...\n",
       "7610    suicide bomber kill 15 saudi security site mos...\n",
       "7611    two giant crane holding bridge collapse nearby...\n",
       "7612    latest home razed northern california wildfire...\n",
       "Name: text_process, Length: 7613, dtype: object"
      ]
     },
     "execution_count": 33,
     "metadata": {},
     "output_type": "execute_result"
    }
   ],
   "source": [
    "X"
   ]
  },
  {
   "cell_type": "code",
   "execution_count": 34,
   "id": "9ec9b927",
   "metadata": {},
   "outputs": [],
   "source": [
    "#vectorizer = CountVectorizer()\n",
    "#X_vec = vectorizer.fit_transform(X)"
   ]
  },
  {
   "cell_type": "code",
   "execution_count": 35,
   "id": "2f5d9fed",
   "metadata": {},
   "outputs": [],
   "source": [
    "#pd.DataFrame(X_vec)"
   ]
  },
  {
   "cell_type": "code",
   "execution_count": 36,
   "id": "f0f50eb5",
   "metadata": {},
   "outputs": [],
   "source": [
    "tfidf = TfidfVectorizer()"
   ]
  },
  {
   "cell_type": "code",
   "execution_count": 37,
   "id": "7c0a237d",
   "metadata": {},
   "outputs": [],
   "source": [
    "#X_train_vec = tfidf.fit_transform(df2['text'].to_numpy())"
   ]
  },
  {
   "cell_type": "code",
   "execution_count": 38,
   "id": "d9ae2e5c",
   "metadata": {},
   "outputs": [],
   "source": [
    "#pd.DataFrame(X_train_vec).head()"
   ]
  },
  {
   "cell_type": "code",
   "execution_count": 39,
   "id": "21241064",
   "metadata": {},
   "outputs": [],
   "source": [
    "X_vec = tfidf.fit_transform(X)"
   ]
  },
  {
   "cell_type": "code",
   "execution_count": 40,
   "id": "7434abf9",
   "metadata": {},
   "outputs": [],
   "source": [
    "#X_vec"
   ]
  },
  {
   "cell_type": "code",
   "execution_count": 41,
   "id": "de1d2aa4",
   "metadata": {
    "scrolled": false
   },
   "outputs": [
    {
     "data": {
      "text/html": [
       "<div>\n",
       "<style scoped>\n",
       "    .dataframe tbody tr th:only-of-type {\n",
       "        vertical-align: middle;\n",
       "    }\n",
       "\n",
       "    .dataframe tbody tr th {\n",
       "        vertical-align: top;\n",
       "    }\n",
       "\n",
       "    .dataframe thead th {\n",
       "        text-align: right;\n",
       "    }\n",
       "</style>\n",
       "<table border=\"1\" class=\"dataframe\">\n",
       "  <thead>\n",
       "    <tr style=\"text-align: right;\">\n",
       "      <th></th>\n",
       "      <th>0</th>\n",
       "    </tr>\n",
       "  </thead>\n",
       "  <tbody>\n",
       "    <tr>\n",
       "      <th>0</th>\n",
       "      <td>(0, 5629)\\t0.49148562905784154\\n  (0, 991)\\t...</td>\n",
       "    </tr>\n",
       "    <tr>\n",
       "      <th>1</th>\n",
       "      <td>(0, 2600)\\t0.38765789061416633\\n  (0, 12153)...</td>\n",
       "    </tr>\n",
       "    <tr>\n",
       "      <th>2</th>\n",
       "      <td>(0, 5135)\\t0.28974659219094845\\n  (0, 10162)...</td>\n",
       "    </tr>\n",
       "    <tr>\n",
       "      <th>3</th>\n",
       "      <td>(0, 2561)\\t0.276987017155563\\n  (0, 15248)\\t...</td>\n",
       "    </tr>\n",
       "    <tr>\n",
       "      <th>4</th>\n",
       "      <td>(0, 12223)\\t0.27148235929883796\\n  (0, 10845...</td>\n",
       "    </tr>\n",
       "    <tr>\n",
       "      <th>...</th>\n",
       "      <td>...</td>\n",
       "    </tr>\n",
       "    <tr>\n",
       "      <th>7608</th>\n",
       "      <td>(0, 14220)\\t0.35355670412258916\\n  (0, 5044)...</td>\n",
       "    </tr>\n",
       "    <tr>\n",
       "      <th>7609</th>\n",
       "      <td>(0, 14999)\\t0.38412404752986196\\n  (0, 14421...</td>\n",
       "    </tr>\n",
       "    <tr>\n",
       "      <th>7610</th>\n",
       "      <td>(0, 2173)\\t0.2539839080697761\\n  (0, 14997)\\...</td>\n",
       "    </tr>\n",
       "    <tr>\n",
       "      <th>7611</th>\n",
       "      <td>(0, 9598)\\t0.37050742077868265\\n  (0, 6700)\\...</td>\n",
       "    </tr>\n",
       "    <tr>\n",
       "      <th>7612</th>\n",
       "      <td>(0, 11347)\\t0.4012261789783318\\n  (0, 649)\\t...</td>\n",
       "    </tr>\n",
       "  </tbody>\n",
       "</table>\n",
       "<p>7613 rows × 1 columns</p>\n",
       "</div>"
      ],
      "text/plain": [
       "                                                      0\n",
       "0       (0, 5629)\\t0.49148562905784154\\n  (0, 991)\\t...\n",
       "1       (0, 2600)\\t0.38765789061416633\\n  (0, 12153)...\n",
       "2       (0, 5135)\\t0.28974659219094845\\n  (0, 10162)...\n",
       "3       (0, 2561)\\t0.276987017155563\\n  (0, 15248)\\t...\n",
       "4       (0, 12223)\\t0.27148235929883796\\n  (0, 10845...\n",
       "...                                                 ...\n",
       "7608    (0, 14220)\\t0.35355670412258916\\n  (0, 5044)...\n",
       "7609    (0, 14999)\\t0.38412404752986196\\n  (0, 14421...\n",
       "7610    (0, 2173)\\t0.2539839080697761\\n  (0, 14997)\\...\n",
       "7611    (0, 9598)\\t0.37050742077868265\\n  (0, 6700)\\...\n",
       "7612    (0, 11347)\\t0.4012261789783318\\n  (0, 649)\\t...\n",
       "\n",
       "[7613 rows x 1 columns]"
      ]
     },
     "execution_count": 41,
     "metadata": {},
     "output_type": "execute_result"
    }
   ],
   "source": [
    "pd.DataFrame(X_vec)"
   ]
  },
  {
   "cell_type": "code",
   "execution_count": 42,
   "id": "1b647679",
   "metadata": {
    "scrolled": true
   },
   "outputs": [
    {
     "name": "stderr",
     "output_type": "stream",
     "text": [
      "C:\\Users\\utile\\anaconda3\\lib\\site-packages\\sklearn\\utils\\deprecation.py:87: FutureWarning: Function get_feature_names is deprecated; get_feature_names is deprecated in 1.0 and will be removed in 1.2. Please use get_feature_names_out instead.\n",
      "  warnings.warn(msg, category=FutureWarning)\n"
     ]
    }
   ],
   "source": [
    "feature_names = tfidf.get_feature_names()"
   ]
  },
  {
   "cell_type": "code",
   "execution_count": 43,
   "id": "acb66670",
   "metadata": {},
   "outputs": [],
   "source": [
    "#feature_names"
   ]
  },
  {
   "cell_type": "code",
   "execution_count": 44,
   "id": "4ccd13c7",
   "metadata": {},
   "outputs": [],
   "source": [
    "#for col in X_train_vec.nonzero()[1]:\n",
    " #   print (feature_names[col], ' - ', X_train_vec[0, col])"
   ]
  },
  {
   "cell_type": "markdown",
   "id": "33d61cdc",
   "metadata": {},
   "source": [
    "## ML : Dataset Split"
   ]
  },
  {
   "cell_type": "code",
   "execution_count": 45,
   "id": "20544061",
   "metadata": {},
   "outputs": [],
   "source": [
    "X_train, X_test, y_train, y_test = train_test_split(X_vec, df2['target'], test_size=0.2, random_state=42)\n"
   ]
  },
  {
   "cell_type": "markdown",
   "id": "cb86447b",
   "metadata": {},
   "source": [
    "## ML : SVM avec sklearn"
   ]
  },
  {
   "cell_type": "code",
   "execution_count": 46,
   "id": "7eda1ff6",
   "metadata": {},
   "outputs": [],
   "source": [
    "#instanciation\n",
    "model_SVC = SVC() #kernel = 'linear', gamma = 'scale', shrinking = False)"
   ]
  },
  {
   "cell_type": "code",
   "execution_count": 47,
   "id": "aad76353",
   "metadata": {},
   "outputs": [
    {
     "data": {
      "text/plain": [
       "SVC()"
      ]
     },
     "execution_count": 47,
     "metadata": {},
     "output_type": "execute_result"
    }
   ],
   "source": [
    "#training\n",
    "model_SVC.fit(X_train, y_train)"
   ]
  },
  {
   "cell_type": "code",
   "execution_count": 48,
   "id": "ba6eda88",
   "metadata": {},
   "outputs": [
    {
     "data": {
      "text/plain": [
       "0.8082731451083388"
      ]
     },
     "execution_count": 48,
     "metadata": {},
     "output_type": "execute_result"
    }
   ],
   "source": [
    "#calcul de la précision\n",
    "model_SVC.score(X_test, y_test)"
   ]
  },
  {
   "cell_type": "code",
   "execution_count": 49,
   "id": "6984449d",
   "metadata": {},
   "outputs": [],
   "source": [
    "def fonction_SVM(tweet):\n",
    "    tw = []\n",
    "    tw.append(tweet)\n",
    "    #Prédiction\n",
    "    X_1 = pd.Series([tweet])\n",
    "    X_1 = tfidf.transform(X_1)\n",
    "    pred = model_SVC.predict(X_1)\n",
    "\n",
    "    #affichage des résultats\n",
    "    resultat = \"Résultat : \"\n",
    "    if pred[0] == 0:\n",
    "        resultat = resultat + \"NO DISASTER\"\n",
    "    if pred[0] == 1:\n",
    "        resultat = resultat + \"DISASTER\"\n",
    "        \n",
    "    return resultat"
   ]
  },
  {
   "cell_type": "code",
   "execution_count": 50,
   "id": "4e234f24",
   "metadata": {},
   "outputs": [
    {
     "data": {
      "text/plain": [
       "'Résultat : DISASTER'"
      ]
     },
     "execution_count": 50,
     "metadata": {},
     "output_type": "execute_result"
    }
   ],
   "source": [
    "#Prédiction\n",
    "fonction_SVM(\"Help me, my house is on fire and all the forest is burning\")"
   ]
  },
  {
   "cell_type": "code",
   "execution_count": 51,
   "id": "7018b087",
   "metadata": {},
   "outputs": [
    {
     "data": {
      "text/plain": [
       "'Résultat : NO DISASTER'"
      ]
     },
     "execution_count": 51,
     "metadata": {},
     "output_type": "execute_result"
    }
   ],
   "source": [
    "#Prédiction\n",
    "fonction_SVM(\"forest love\")"
   ]
  },
  {
   "cell_type": "code",
   "execution_count": 52,
   "id": "bd32d5d8",
   "metadata": {},
   "outputs": [
    {
     "data": {
      "text/plain": [
       "'Résultat : NO DISASTER'"
      ]
     },
     "execution_count": 52,
     "metadata": {},
     "output_type": "execute_result"
    }
   ],
   "source": [
    "#Prédiction\n",
    "fonction_SVM(\"beautiful forest\")"
   ]
  },
  {
   "cell_type": "code",
   "execution_count": 53,
   "id": "bc7502df",
   "metadata": {},
   "outputs": [
    {
     "data": {
      "text/plain": [
       "'Résultat : NO DISASTER'"
      ]
     },
     "execution_count": 53,
     "metadata": {},
     "output_type": "execute_result"
    }
   ],
   "source": [
    "#Prédiction\n",
    "fonction_SVM(\"the floor is on fire i love disco\")"
   ]
  },
  {
   "cell_type": "markdown",
   "id": "2b48308c",
   "metadata": {},
   "source": [
    "## ML : xgboost"
   ]
  },
  {
   "cell_type": "markdown",
   "id": "c82f315c",
   "metadata": {},
   "source": [
    "The data is stored in a DMatrix object."
   ]
  },
  {
   "cell_type": "code",
   "execution_count": 54,
   "id": "0374ba0d",
   "metadata": {},
   "outputs": [
    {
     "data": {
      "text/plain": [
       "<6090x15718 sparse matrix of type '<class 'numpy.float64'>'\n",
       "\twith 54582 stored elements in Compressed Sparse Row format>"
      ]
     },
     "execution_count": 54,
     "metadata": {},
     "output_type": "execute_result"
    }
   ],
   "source": [
    "X_train"
   ]
  },
  {
   "cell_type": "code",
   "execution_count": 55,
   "id": "28c7ca35",
   "metadata": {},
   "outputs": [
    {
     "data": {
      "text/html": [
       "<div>\n",
       "<style scoped>\n",
       "    .dataframe tbody tr th:only-of-type {\n",
       "        vertical-align: middle;\n",
       "    }\n",
       "\n",
       "    .dataframe tbody tr th {\n",
       "        vertical-align: top;\n",
       "    }\n",
       "\n",
       "    .dataframe thead th {\n",
       "        text-align: right;\n",
       "    }\n",
       "</style>\n",
       "<table border=\"1\" class=\"dataframe\">\n",
       "  <thead>\n",
       "    <tr style=\"text-align: right;\">\n",
       "      <th></th>\n",
       "      <th>0</th>\n",
       "    </tr>\n",
       "  </thead>\n",
       "  <tbody>\n",
       "    <tr>\n",
       "      <th>0</th>\n",
       "      <td>(0, 496)\\t0.37641878497473147\\n  (0, 4192)\\t...</td>\n",
       "    </tr>\n",
       "    <tr>\n",
       "      <th>1</th>\n",
       "      <td>(0, 4892)\\t0.40461246822950253\\n  (0, 7035)\\...</td>\n",
       "    </tr>\n",
       "    <tr>\n",
       "      <th>2</th>\n",
       "      <td>(0, 3010)\\t0.3260889900992241\\n  (0, 3438)\\t...</td>\n",
       "    </tr>\n",
       "    <tr>\n",
       "      <th>3</th>\n",
       "      <td>(0, 2797)\\t0.23063019194083212\\n  (0, 3368)\\...</td>\n",
       "    </tr>\n",
       "    <tr>\n",
       "      <th>4</th>\n",
       "      <td>(0, 1068)\\t0.20937047805631437\\n  (0, 1404)\\...</td>\n",
       "    </tr>\n",
       "  </tbody>\n",
       "</table>\n",
       "</div>"
      ],
      "text/plain": [
       "                                                   0\n",
       "0    (0, 496)\\t0.37641878497473147\\n  (0, 4192)\\t...\n",
       "1    (0, 4892)\\t0.40461246822950253\\n  (0, 7035)\\...\n",
       "2    (0, 3010)\\t0.3260889900992241\\n  (0, 3438)\\t...\n",
       "3    (0, 2797)\\t0.23063019194083212\\n  (0, 3368)\\...\n",
       "4    (0, 1068)\\t0.20937047805631437\\n  (0, 1404)\\..."
      ]
     },
     "execution_count": 55,
     "metadata": {},
     "output_type": "execute_result"
    }
   ],
   "source": [
    "pd.DataFrame(X_train).head()"
   ]
  },
  {
   "cell_type": "code",
   "execution_count": 56,
   "id": "5d557785",
   "metadata": {},
   "outputs": [
    {
     "data": {
      "text/plain": [
       "scipy.sparse._csr.csr_matrix"
      ]
     },
     "execution_count": 56,
     "metadata": {},
     "output_type": "execute_result"
    }
   ],
   "source": [
    "type(X_train)"
   ]
  },
  {
   "cell_type": "code",
   "execution_count": 57,
   "id": "7bbce5d6",
   "metadata": {},
   "outputs": [],
   "source": [
    "# Create regression matrices\n",
    "#dtrain = xgb.DMatrix(X_train)"
   ]
  },
  {
   "cell_type": "code",
   "execution_count": 58,
   "id": "1c49f1f3",
   "metadata": {},
   "outputs": [
    {
     "data": {
      "text/plain": [
       "array(<xgboost.core.DMatrix object at 0x000001B8965E4F40>, dtype=object)"
      ]
     },
     "execution_count": 58,
     "metadata": {},
     "output_type": "execute_result"
    }
   ],
   "source": [
    "# Create regression matrices\n",
    "dtrain = xgb.DMatrix(X_train, y_train)#, enable_categorical=True)\n",
    "dtest = xgb.DMatrix(X_test, y_test) #, enable_categorical=True)\n",
    "np.asarray(dtest)"
   ]
  },
  {
   "cell_type": "code",
   "execution_count": 59,
   "id": "1184b7bf",
   "metadata": {},
   "outputs": [],
   "source": [
    "# Define hyperparameters\n",
    "param = {'objective': 'binary:logistic', 'eval_metric': 'auc'}"
   ]
  },
  {
   "cell_type": "code",
   "execution_count": 60,
   "id": "e96de787",
   "metadata": {},
   "outputs": [],
   "source": [
    "# Define hyperparameters\n",
    "model_xgb = xgb.train(param, dtrain, num_boost_round=10)"
   ]
  },
  {
   "cell_type": "code",
   "execution_count": 61,
   "id": "eb02e735",
   "metadata": {},
   "outputs": [],
   "source": [
    "ypred = model_xgb.predict(dtest)"
   ]
  },
  {
   "cell_type": "code",
   "execution_count": 62,
   "id": "eafe6cd9",
   "metadata": {},
   "outputs": [],
   "source": [
    "def fonction_XGB(tweet):\n",
    "    tw = []\n",
    "    tw.append(tweet)\n",
    "    #Prédiction\n",
    "    X_1 = pd.Series([tweet])\n",
    "    X_1 = tfidf.transform(X_1)\n",
    "    X_1 = xgb.DMatrix(X_1)\n",
    "    pred = model_xgb.predict(X_1)\n",
    "\n",
    "    #affichage des résultats\n",
    "    resultat = \"Résultat : \"\n",
    "    if pred[0] < 0.5:\n",
    "        resultat = resultat + \"NO DISASTER\"\n",
    "    if pred[0] >= 0.5:\n",
    "        resultat = resultat + \"DISASTER\"\n",
    "        \n",
    "    return resultat"
   ]
  },
  {
   "cell_type": "code",
   "execution_count": 63,
   "id": "be4169c2",
   "metadata": {},
   "outputs": [
    {
     "data": {
      "text/plain": [
       "'Résultat : DISASTER'"
      ]
     },
     "execution_count": 63,
     "metadata": {},
     "output_type": "execute_result"
    }
   ],
   "source": [
    "#Prédiction\n",
    "fonction_XGB(\"Help me, my house is on fire and all the forest is burning\")"
   ]
  },
  {
   "cell_type": "code",
   "execution_count": 64,
   "id": "0dd695a1",
   "metadata": {},
   "outputs": [
    {
     "data": {
      "text/plain": [
       "'Résultat : NO DISASTER'"
      ]
     },
     "execution_count": 64,
     "metadata": {},
     "output_type": "execute_result"
    }
   ],
   "source": [
    "#Prédiction\n",
    "fonction_XGB(\"Hello the forest is on love\")"
   ]
  },
  {
   "cell_type": "code",
   "execution_count": 65,
   "id": "6ad26608",
   "metadata": {},
   "outputs": [],
   "source": [
    "ypred = [round(pred) for pred in ypred]"
   ]
  },
  {
   "cell_type": "code",
   "execution_count": 66,
   "id": "06a5d032",
   "metadata": {},
   "outputs": [
    {
     "name": "stdout",
     "output_type": "stream",
     "text": [
      "Accuracy:  0.72\n"
     ]
    }
   ],
   "source": [
    "accuracy = round(sum(ypred == y_test) / len(y_test), 2)\n",
    "print('Accuracy: ', accuracy)"
   ]
  },
  {
   "cell_type": "markdown",
   "id": "19835a1d",
   "metadata": {},
   "source": [
    "## ML : SKL Log Reg"
   ]
  },
  {
   "cell_type": "code",
   "execution_count": 67,
   "id": "57ac36bd",
   "metadata": {},
   "outputs": [],
   "source": [
    "X_train_arr = np.asarray(X_train.toarray())"
   ]
  },
  {
   "cell_type": "code",
   "execution_count": 68,
   "id": "972a626b",
   "metadata": {},
   "outputs": [
    {
     "data": {
      "text/plain": [
       "array([[0., 0., 0., ..., 0., 0., 0.],\n",
       "       [0., 0., 0., ..., 0., 0., 0.],\n",
       "       [0., 0., 0., ..., 0., 0., 0.],\n",
       "       ...,\n",
       "       [0., 0., 0., ..., 0., 0., 0.],\n",
       "       [0., 0., 0., ..., 0., 0., 0.],\n",
       "       [0., 0., 0., ..., 0., 0., 0.]])"
      ]
     },
     "execution_count": 68,
     "metadata": {},
     "output_type": "execute_result"
    }
   ],
   "source": [
    "X_train_arr"
   ]
  },
  {
   "cell_type": "code",
   "execution_count": 69,
   "id": "0ff102bb",
   "metadata": {},
   "outputs": [],
   "source": [
    "#X_train_arr_df = pd.DataFrame(X_train_arr)"
   ]
  },
  {
   "cell_type": "code",
   "execution_count": 70,
   "id": "5a2f8127",
   "metadata": {},
   "outputs": [],
   "source": [
    "#X_train_arr_df.describe()"
   ]
  },
  {
   "cell_type": "code",
   "execution_count": 71,
   "id": "16151dc5",
   "metadata": {
    "scrolled": false
   },
   "outputs": [],
   "source": [
    "#model_logreg = sm.Logit(y_train, X_train_arr)"
   ]
  },
  {
   "cell_type": "code",
   "execution_count": 72,
   "id": "30a7a458",
   "metadata": {},
   "outputs": [],
   "source": [
    "#result = model_logreg.fit()"
   ]
  },
  {
   "cell_type": "code",
   "execution_count": 73,
   "id": "48e9bffe",
   "metadata": {},
   "outputs": [],
   "source": [
    "#result.summary2()"
   ]
  },
  {
   "cell_type": "code",
   "execution_count": 74,
   "id": "2ffe33d1",
   "metadata": {},
   "outputs": [],
   "source": [
    "model_logreg = LogisticRegression()\n",
    "\n",
    "model_logreg.fit(X_train, y_train)\n",
    "\n",
    "y_pred = model_logreg.predict(X_test)"
   ]
  },
  {
   "cell_type": "code",
   "execution_count": 76,
   "id": "8a2e8858",
   "metadata": {},
   "outputs": [
    {
     "name": "stdout",
     "output_type": "stream",
     "text": [
      "Model accuracy (%) : 81.5\n"
     ]
    }
   ],
   "source": [
    "print('Model accuracy (%) : {:.1f}'.format(model_logreg.score(X_test, y_test) * 100))"
   ]
  },
  {
   "cell_type": "code",
   "execution_count": 78,
   "id": "20ddc1bb",
   "metadata": {},
   "outputs": [],
   "source": [
    "roc_auc = roc_auc_score(y_test, model_logreg.predict(X_test))\n",
    "\n",
    "fpr, tpr, thresholds = roc_curve(y_test, model_logreg.predict_proba(X_test)[:,1])"
   ]
  },
  {
   "cell_type": "code",
   "execution_count": 79,
   "id": "8f7d23a7",
   "metadata": {},
   "outputs": [
    {
     "data": {
      "text/plain": [
       "<matplotlib.legend.Legend at 0x1b896ba2ca0>"
      ]
     },
     "execution_count": 79,
     "metadata": {},
     "output_type": "execute_result"
    },
    {
     "data": {
      "image/png": "[encoded data removed]",
      "text/plain": [
       "<Figure size 640x480 with 1 Axes>"
      ]
     },
     "metadata": {},
     "output_type": "display_data"
    }
   ],
   "source": [
    "plt.plot(fpr, tpr, label='Logistic Regression (area = %0.2f)' % roc_auc)\n",
    "plt.plot([0, 1], [0, 1], 'r--')\n",
    "plt.title('ROC Curve')\n",
    "plt.xlabel('False Positive Rate')\n",
    "plt.ylabel('True Positive Rate')\n",
    "plt.legend()"
   ]
  },
  {
   "cell_type": "code",
   "execution_count": null,
   "id": "6dc1b503",
   "metadata": {},
   "outputs": [],
   "source": []
  }
 ],
 "metadata": {
  "kernelspec": {
   "display_name": "Python 3 (ipykernel)",
   "language": "python",
   "name": "python3"
  },
  "language_info": {
   "codemirror_mode": {
    "name": "ipython",
    "version": 3
   },
   "file_extension": ".py",
   "mimetype": "text/x-python",
   "name": "python",
   "nbconvert_exporter": "python",
   "pygments_lexer": "ipython3",
   "version": "3.9.13"
  }
 },
 "nbformat": 4,
 "nbformat_minor": 5
}
