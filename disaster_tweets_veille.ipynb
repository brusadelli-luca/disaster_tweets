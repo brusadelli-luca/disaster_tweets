{
 "cells": [
  {
   "cell_type": "markdown",
   "id": "fcc0912b",
   "metadata": {},
   "source": [
    "# DISASTER TWEETS : VEILLE"
   ]
  },
  {
   "cell_type": "markdown",
   "id": "e508b99a",
   "metadata": {},
   "source": [
    "## 1. Définissez les notions de Text Mining (exploration de texte) et de Natural Language Processing (Traitement du langage). Citez les points communs ainsi que les différences entre les deux."
   ]
  },
  {
   "cell_type": "markdown",
   "id": "9a2cf861",
   "metadata": {},
   "source": [
    "Les deux servent à tirer de l'information depuis un texte afin d'être traité par la machine."
   ]
  },
  {
   "cell_type": "markdown",
   "id": "43d1b30a",
   "metadata": {},
   "source": [
    "### Text mining"
   ]
  },
  {
   "cell_type": "markdown",
   "id": "a7388621",
   "metadata": {},
   "source": [
    "Permet de tirer de l'information depuis un texte contenu."
   ]
  },
  {
   "cell_type": "markdown",
   "id": "7687def0",
   "metadata": {},
   "source": [
    "### NLP"
   ]
  },
  {
   "cell_type": "markdown",
   "id": "df3db0af",
   "metadata": {},
   "source": [
    "Permet de comprendre un texte, sens, nuances, etc..."
   ]
  },
  {
   "cell_type": "markdown",
   "id": "859cf5b8",
   "metadata": {},
   "source": [
    "## 2.\tLe NLP comprend plusieurs sous-domaines et techniques différentes (l’analyse de sentiments, Named Entity Recognition (NER), le Part-of-Speech (POS) Tagging, ... etc), expliquez au moins 4 de ces sous-domaines et illustrez à travers d’exemples."
   ]
  },
  {
   "cell_type": "markdown",
   "id": "5d872727",
   "metadata": {},
   "source": [
    "### a.\tAnalyse de sentiments\n",
    "\n",
    "### b.\tNamed Entity Recognition (NER)\n",
    "L'objectif principal d'un modèle NER est d'étiqueter ou de baliser des entités dans des documents texte et de les catégoriser pour un apprentissage en profondeur. Les trois approches suivantes sont généralement utilisées à cette fin. Cependant, vous pouvez également choisir de combiner une ou plusieurs méthodes. Les différentes approches pour créer des systèmes NER sont :\n",
    "\n",
    "-\tSystèmes basés sur un dictionnaire\n",
    "C’est peut-être l’approche NER la plus simple et la plus fondamentale. Il utilisera un dictionnaire avec de nombreux mots, des synonymes et une collection de vocabulaire. Le système vérifiera si une entité particulière présente dans le texte est également disponible dans le vocabulaire. En utilisant un algorithme de mise en correspondance de chaînes, une vérification croisée des entités est effectuée. Jil est nécessaire d’améliorer constamment l’ensemble de données de vocabulaire pour le fonctionnement efficace du modèle NER.\n",
    "\n",
    "-\tSystèmes basés sur des règles\n",
    "Extraction d'informations basée sur un ensemble de règles prédéfinies, qui sont :\n",
    "\n",
    "o\tRègles basées sur des modèles – Comme son nom l'indique, une règle basée sur un modèle suit un modèle morphologique ou une chaîne de mots utilisée dans le document.\n",
    "o\tRègles basées sur le contexte – Les règles contextuelles dépendent de la signification ou du contexte du mot dans le document.\n",
    "\n",
    "-\tSystèmes basés sur l'apprentissage automatique\n",
    "\n",
    "\n",
    "Part-of-Speech (POS) Tagging\n",
    "Tags a particular sentence or words in a paragraph by looking at the context of the sentence/words inside the paragraph.\n",
    "\n",
    "https://fr.shaip.com/solutions/named-entity-recognition-ner/\n",
    "\n",
    "### 3.\tDonnez quelques exemples d’applications concrètes du NLP.\n",
    "\n",
    "### 4.\tQu’est-ce qu’un stop-word ? Pourquoi est-il important de supprimer les stop-words ? Illustrez à travers d’exemples.\n",
    "\n",
    "Stop-word sont des mots de liaison qui se répètent et n’ajoutent pas de sens.\n"
   ]
  },
  {
   "cell_type": "markdown",
   "id": "0aeb966e",
   "metadata": {},
   "source": [
    "## 1. Définissez les notions de Text Mining (exploration de texte) et de Natural Language Processing (Traitement du langage). Citez les points communs ainsi que les différences entre les deux."
   ]
  }
 ],
 "metadata": {
  "kernelspec": {
   "display_name": "Python 3 (ipykernel)",
   "language": "python",
   "name": "python3"
  },
  "language_info": {
   "codemirror_mode": {
    "name": "ipython",
    "version": 3
   },
   "file_extension": ".py",
   "mimetype": "text/x-python",
   "name": "python",
   "nbconvert_exporter": "python",
   "pygments_lexer": "ipython3",
   "version": "3.9.13"
  }
 },
 "nbformat": 4,
 "nbformat_minor": 5
}
